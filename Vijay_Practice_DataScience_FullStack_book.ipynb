{
 "cells": [
  {
   "cell_type": "markdown",
   "id": "355f8942-d1a6-407b-9d38-bd6e439b8148",
   "metadata": {},
   "source": [
    "Class Date: 13th August 2024 | Practice Present Date 06th December 2024"
   ]
  },
  {
   "cell_type": "code",
   "execution_count": 544,
   "id": "5d5e4e4d-46b9-48ae-8660-ddb1dab9153b",
   "metadata": {},
   "outputs": [],
   "source": [
    "A1={1,2,3,4,5,6,7,8,9}\n",
    "B1={3,4,5,6}\n",
    "C1={10,20,30,40}"
   ]
  },
  {
   "cell_type": "code",
   "execution_count": 545,
   "id": "96fa0256-ecb3-4bcd-bd7e-fcd68a78ca3d",
   "metadata": {},
   "outputs": [
    {
     "data": {
      "text/plain": [
       "True"
      ]
     },
     "execution_count": 545,
     "metadata": {},
     "output_type": "execute_result"
    }
   ],
   "source": [
    "B1.issubset(A1)"
   ]
  },
  {
   "cell_type": "code",
   "execution_count": 546,
   "id": "6ad0a47d-51cd-4fc7-8e1f-b56c7981fb9d",
   "metadata": {},
   "outputs": [
    {
     "data": {
      "text/plain": [
       "False"
      ]
     },
     "execution_count": 546,
     "metadata": {},
     "output_type": "execute_result"
    }
   ],
   "source": [
    "C1.issubset(B1)"
   ]
  },
  {
   "cell_type": "code",
   "execution_count": 547,
   "id": "75df5014-2930-4a57-9d88-ffbcb51e3b58",
   "metadata": {},
   "outputs": [
    {
     "data": {
      "text/plain": [
       "False"
      ]
     },
     "execution_count": 547,
     "metadata": {},
     "output_type": "execute_result"
    }
   ],
   "source": [
    "B1.issubset(C1)"
   ]
  },
  {
   "cell_type": "code",
   "execution_count": 548,
   "id": "917adae0-7e05-40a4-8a4f-16b76ad969a4",
   "metadata": {},
   "outputs": [
    {
     "data": {
      "text/plain": [
       "True"
      ]
     },
     "execution_count": 548,
     "metadata": {},
     "output_type": "execute_result"
    }
   ],
   "source": [
    "B1.isdisjoint(C1)"
   ]
  },
  {
   "cell_type": "code",
   "execution_count": 549,
   "id": "fc4258a7-2005-475e-981d-58031adfc9aa",
   "metadata": {},
   "outputs": [],
   "source": [
    "#is disjoint of opposite of set intersection or set common things"
   ]
  },
  {
   "cell_type": "code",
   "execution_count": 550,
   "id": "9ad26053-c62e-4241-a851-fab99c66389d",
   "metadata": {},
   "outputs": [
    {
     "data": {
      "text/plain": [
       "True"
      ]
     },
     "execution_count": 550,
     "metadata": {},
     "output_type": "execute_result"
    }
   ],
   "source": [
    "A1.issuperset(B1)"
   ]
  },
  {
   "cell_type": "code",
   "execution_count": 551,
   "id": "1eaa1018-aeb6-4e69-aacb-6f180fafd03c",
   "metadata": {},
   "outputs": [
    {
     "data": {
      "text/plain": [
       "False"
      ]
     },
     "execution_count": 551,
     "metadata": {},
     "output_type": "execute_result"
    }
   ],
   "source": [
    "A1.issuperset(C1)"
   ]
  },
  {
   "cell_type": "code",
   "execution_count": 552,
   "id": "42e23fec-af80-4ab9-a7da-b279ff6b7cda",
   "metadata": {},
   "outputs": [
    {
     "ename": "SyntaxError",
     "evalue": "incomplete input (2131695108.py, line 1)",
     "output_type": "error",
     "traceback": [
      "\u001b[1;36m  Cell \u001b[1;32mIn[552], line 1\u001b[1;36m\u001b[0m\n\u001b[1;33m    A={1,2,3,4,5,6,7,8,9\u001b[0m\n\u001b[1;37m                        ^\u001b[0m\n\u001b[1;31mSyntaxError\u001b[0m\u001b[1;31m:\u001b[0m incomplete input\n"
     ]
    }
   ],
   "source": [
    "A={1,2,3,4,5,6,7,8,9"
   ]
  },
  {
   "cell_type": "code",
   "execution_count": null,
   "id": "01307889-ed71-4da4-b08d-b08781f2e722",
   "metadata": {},
   "outputs": [],
   "source": [
    "A={1,2,3,4,5,6,7,8,9}"
   ]
  },
  {
   "cell_type": "code",
   "execution_count": null,
   "id": "c8187163-5e8f-4737-9c97-0a49363ef304",
   "metadata": {},
   "outputs": [],
   "source": [
    "A"
   ]
  },
  {
   "cell_type": "code",
   "execution_count": null,
   "id": "e9f2f490-4ac9-452d-adc9-d0086aab40b6",
   "metadata": {},
   "outputs": [],
   "source": [
    "type(A)"
   ]
  },
  {
   "cell_type": "code",
   "execution_count": null,
   "id": "67c8076c-4b00-4bb2-9ef2-c5983b9f34a4",
   "metadata": {},
   "outputs": [],
   "source": [
    "sum(a)"
   ]
  },
  {
   "cell_type": "code",
   "execution_count": null,
   "id": "2cadbdbd-3ff8-4a1d-95b4-943a87e82f31",
   "metadata": {},
   "outputs": [],
   "source": [
    "sum(A)"
   ]
  },
  {
   "cell_type": "code",
   "execution_count": 553,
   "id": "95f1c8ea-beb9-4196-a73b-3e2967ba5c63",
   "metadata": {},
   "outputs": [
    {
     "ename": "NameError",
     "evalue": "name 'A' is not defined",
     "output_type": "error",
     "traceback": [
      "\u001b[1;31m---------------------------------------------------------------------------\u001b[0m",
      "\u001b[1;31mNameError\u001b[0m                                 Traceback (most recent call last)",
      "Cell \u001b[1;32mIn[553], line 1\u001b[0m\n\u001b[1;32m----> 1\u001b[0m \u001b[38;5;28mmax\u001b[39m(A)\n",
      "\u001b[1;31mNameError\u001b[0m: name 'A' is not defined"
     ]
    }
   ],
   "source": [
    "max(A)"
   ]
  },
  {
   "cell_type": "code",
   "execution_count": null,
   "id": "d3bd2212-d872-4707-9830-5237bb628000",
   "metadata": {},
   "outputs": [],
   "source": [
    "min(A)"
   ]
  },
  {
   "cell_type": "code",
   "execution_count": null,
   "id": "6b9696fb-75a2-4d16-a58d-8b16e7d50fc4",
   "metadata": {},
   "outputs": [],
   "source": [
    "len(A)"
   ]
  },
  {
   "cell_type": "code",
   "execution_count": null,
   "id": "9b52c728-4cd6-48d6-91d6-e2f458b43a7d",
   "metadata": {},
   "outputs": [],
   "source": [
    "list(enumerate(A))"
   ]
  },
  {
   "cell_type": "code",
   "execution_count": null,
   "id": "0f4681cf-6de1-4464-a76c-6604ab385534",
   "metadata": {},
   "outputs": [],
   "source": [
    "list(enumerate(B1))"
   ]
  },
  {
   "cell_type": "code",
   "execution_count": null,
   "id": "d4268bdb-e9c4-4aaa-b830-0ea450944f2e",
   "metadata": {},
   "outputs": [],
   "source": [
    "for i in enumerate(A1):\n",
    "    print(i)"
   ]
  },
  {
   "cell_type": "code",
   "execution_count": null,
   "id": "4d20bb9e-dcc6-4af9-8f75-8a2bb64a08db",
   "metadata": {},
   "outputs": [],
   "source": [
    "D=sorted(A)"
   ]
  },
  {
   "cell_type": "code",
   "execution_count": null,
   "id": "2602c1f9-9745-4b1f-8024-f3168a445a47",
   "metadata": {},
   "outputs": [],
   "source": [
    "D"
   ]
  },
  {
   "cell_type": "code",
   "execution_count": null,
   "id": "8747dab0-43c4-4374-b1bd-062fdc7717a0",
   "metadata": {},
   "outputs": [],
   "source": [
    "D=sorted(A,reserve=true)"
   ]
  },
  {
   "cell_type": "code",
   "execution_count": null,
   "id": "5482d567-016f-4b48-82cb-4832f21f3ac2",
   "metadata": {},
   "outputs": [],
   "source": [
    "D=sorted(A,reserve=True)"
   ]
  },
  {
   "cell_type": "code",
   "execution_count": null,
   "id": "96215e51-cb7e-4b95-9c9e-24a82d130564",
   "metadata": {},
   "outputs": [],
   "source": [
    "D=sorted(A,reverse=True)"
   ]
  },
  {
   "cell_type": "code",
   "execution_count": null,
   "id": "73a634b9-262a-44a0-bede-fb54e3884032",
   "metadata": {},
   "outputs": [],
   "source": [
    "D"
   ]
  },
  {
   "cell_type": "code",
   "execution_count": null,
   "id": "63f7ca6f-2eaf-40da-914c-dc500e117352",
   "metadata": {},
   "outputs": [],
   "source": [
    "sorted(D)"
   ]
  },
  {
   "cell_type": "markdown",
   "id": "08d378da-a3da-4b33-9cb1-7a426e5f459f",
   "metadata": {},
   "source": [
    "#Set Data Structures Completed In Class and I need practice thoroughtly"
   ]
  },
  {
   "cell_type": "code",
   "execution_count": null,
   "id": "627cca96-5d9d-4766-9ed0-8795a61541d1",
   "metadata": {},
   "outputs": [],
   "source": [
    "E={}\n",
    "F={1}"
   ]
  },
  {
   "cell_type": "code",
   "execution_count": null,
   "id": "3aa0b011-4ce6-4410-b7dd-dd0354325923",
   "metadata": {},
   "outputs": [],
   "source": [
    "type(E)\n",
    "type(F)"
   ]
  },
  {
   "cell_type": "code",
   "execution_count": null,
   "id": "775526e0-7d89-4d50-8c01-ce934a3d5f7e",
   "metadata": {},
   "outputs": [],
   "source": [
    "G = {}\n",
    "type(G)"
   ]
  },
  {
   "cell_type": "code",
   "execution_count": null,
   "id": "0fed4b02-39f1-481a-a56c-86eb9a50be8a",
   "metadata": {},
   "outputs": [],
   "source": [
    "E= {}\n",
    "type(E)"
   ]
  },
  {
   "cell_type": "code",
   "execution_count": 554,
   "id": "8dec7363-2816-46f1-99b4-b39fffabf9ef",
   "metadata": {},
   "outputs": [],
   "source": [
    "E={}"
   ]
  },
  {
   "cell_type": "code",
   "execution_count": 555,
   "id": "77cdb80d-fb96-4c29-8b79-3483dfcfffb7",
   "metadata": {},
   "outputs": [
    {
     "data": {
      "text/plain": [
       "dict"
      ]
     },
     "execution_count": 555,
     "metadata": {},
     "output_type": "execute_result"
    }
   ],
   "source": [
    "type(E)"
   ]
  },
  {
   "cell_type": "code",
   "execution_count": 556,
   "id": "34f02100-6411-4b0b-bf2d-bba5a7736b14",
   "metadata": {},
   "outputs": [
    {
     "ename": "NameError",
     "evalue": "name 'F' is not defined",
     "output_type": "error",
     "traceback": [
      "\u001b[1;31m---------------------------------------------------------------------------\u001b[0m",
      "\u001b[1;31mNameError\u001b[0m                                 Traceback (most recent call last)",
      "Cell \u001b[1;32mIn[556], line 1\u001b[0m\n\u001b[1;32m----> 1\u001b[0m \u001b[38;5;28mtype\u001b[39m(F)\n",
      "\u001b[1;31mNameError\u001b[0m: name 'F' is not defined"
     ]
    }
   ],
   "source": [
    "type(F)"
   ]
  },
  {
   "cell_type": "code",
   "execution_count": null,
   "id": "6d3f551a-c28b-4e30-9bf4-5729844748b4",
   "metadata": {},
   "outputs": [],
   "source": [
    "F= {}\n",
    "type(F)"
   ]
  },
  {
   "cell_type": "code",
   "execution_count": null,
   "id": "824994e8-b4fd-4d5c-8b23-9cbd3e8d0793",
   "metadata": {},
   "outputs": [],
   "source": [
    "E={}\n",
    "type(E)"
   ]
  },
  {
   "cell_type": "code",
   "execution_count": null,
   "id": "c8f2e8b8-3b09-446d-bc96-45af1aeb1f44",
   "metadata": {},
   "outputs": [],
   "source": [
    "E={1}\n",
    "type(E)"
   ]
  },
  {
   "cell_type": "code",
   "execution_count": null,
   "id": "c266d6c3-c183-410d-bffb-61ffc61f0bfa",
   "metadata": {},
   "outputs": [],
   "source": [
    "E= {}\n",
    "type(E)"
   ]
  },
  {
   "cell_type": "code",
   "execution_count": null,
   "id": "9e8e5448-ed42-4175-8327-4f4f8f2092f7",
   "metadata": {},
   "outputs": [],
   "source": [
    "F={}"
   ]
  },
  {
   "cell_type": "code",
   "execution_count": null,
   "id": "d6c93e9a-e79a-46f1-9abc-1c0d60957d00",
   "metadata": {},
   "outputs": [],
   "source": [
    "type(F)"
   ]
  },
  {
   "cell_type": "code",
   "execution_count": null,
   "id": "c9641024-2627-4fcd-bcf0-2c41c53b2fde",
   "metadata": {},
   "outputs": [],
   "source": [
    "F={1"
   ]
  },
  {
   "cell_type": "code",
   "execution_count": null,
   "id": "41b226eb-1e65-44a4-a59e-1a960a1e1e3b",
   "metadata": {},
   "outputs": [],
   "source": [
    "F={1}"
   ]
  },
  {
   "cell_type": "code",
   "execution_count": null,
   "id": "842043e9-ad60-47aa-aa6e-8122df9f0ae8",
   "metadata": {},
   "outputs": [],
   "source": [
    "type(value(F))"
   ]
  },
  {
   "cell_type": "code",
   "execution_count": null,
   "id": "9027b518-ec60-42e4-a3b2-5e61b53bb99a",
   "metadata": {},
   "outputs": [],
   "source": [
    "type(F)"
   ]
  },
  {
   "cell_type": "code",
   "execution_count": null,
   "id": "90ad6e07-b635-4399-bef3-9347f3084d85",
   "metadata": {},
   "outputs": [],
   "source": [
    "d= {}"
   ]
  },
  {
   "cell_type": "code",
   "execution_count": null,
   "id": "b0517e14-d2e9-410b-8637-1b5fa48a9737",
   "metadata": {},
   "outputs": [],
   "source": [
    "type(d)"
   ]
  },
  {
   "cell_type": "code",
   "execution_count": null,
   "id": "ee83a33e-f281-463f-8b2c-b032248aa214",
   "metadata": {},
   "outputs": [],
   "source": [
    "d = dict()"
   ]
  },
  {
   "cell_type": "code",
   "execution_count": null,
   "id": "9fef480b-7796-4075-8f32-6f1faaee3b3f",
   "metadata": {},
   "outputs": [],
   "source": [
    "type(d)"
   ]
  },
  {
   "cell_type": "code",
   "execution_count": null,
   "id": "cd23f506-b52a-443b-9fc1-9e0cffc80acd",
   "metadata": {},
   "outputs": [],
   "source": [
    "d2={1:'one',2:'two',3:'three',4:'four'}\n",
    "type(d2)"
   ]
  },
  {
   "cell_type": "code",
   "execution_count": null,
   "id": "28603221-4d95-4281-b7eb-0520b24fc2bc",
   "metadata": {},
   "outputs": [],
   "source": [
    "d2.items()"
   ]
  },
  {
   "cell_type": "code",
   "execution_count": null,
   "id": "4918ad85-51db-4ef2-832d-8b7c9d79b6a7",
   "metadata": {},
   "outputs": [],
   "source": [
    "len(d2)"
   ]
  },
  {
   "cell_type": "code",
   "execution_count": null,
   "id": "1f0d4432-2eca-41e5-947d-469d0d296d05",
   "metadata": {},
   "outputs": [],
   "source": [
    "d2.keys()"
   ]
  },
  {
   "cell_type": "code",
   "execution_count": null,
   "id": "321274ba-9af5-4466-81b7-5c09976ada5d",
   "metadata": {},
   "outputs": [],
   "source": [
    "d2.values()"
   ]
  },
  {
   "cell_type": "code",
   "execution_count": null,
   "id": "79d355f9-a107-4e71-b553-2bcd62e8ee32",
   "metadata": {},
   "outputs": [],
   "source": [
    "d2[5]='five'"
   ]
  },
  {
   "cell_type": "code",
   "execution_count": null,
   "id": "72cdd213-823c-4c74-86d8-da4dddad5cb5",
   "metadata": {},
   "outputs": [],
   "source": [
    "d2"
   ]
  },
  {
   "cell_type": "code",
   "execution_count": null,
   "id": "d8de5074-d906-420d-87ac-5dd34869e400",
   "metadata": {},
   "outputs": [],
   "source": [
    "d2[6]='six'"
   ]
  },
  {
   "cell_type": "code",
   "execution_count": null,
   "id": "d4a1f85b-c85a-4518-b268-1afd98642581",
   "metadata": {},
   "outputs": [],
   "source": [
    "d2"
   ]
  },
  {
   "cell_type": "code",
   "execution_count": null,
   "id": "d9740dec-1c80-4872-b473-f7d7ee7372c4",
   "metadata": {},
   "outputs": [],
   "source": [
    "d2.keys()\n",
    "d2.values()"
   ]
  },
  {
   "cell_type": "code",
   "execution_count": null,
   "id": "e9af5c7e-7ea9-48ff-bf4c-c0d5a86c63e1",
   "metadata": {},
   "outputs": [],
   "source": [
    "d2.keys()"
   ]
  },
  {
   "cell_type": "code",
   "execution_count": null,
   "id": "e85e14ad-0e82-40dc-ad96-982bce3064e1",
   "metadata": {},
   "outputs": [],
   "source": [
    "d2.get(1)"
   ]
  },
  {
   "cell_type": "code",
   "execution_count": null,
   "id": "796b2963-2d30-4f63-b3c7-72fd5623ff24",
   "metadata": {},
   "outputs": [],
   "source": [
    "d1[:]"
   ]
  },
  {
   "cell_type": "code",
   "execution_count": null,
   "id": "e0461332-2999-40e1-b134-c5638d6febb7",
   "metadata": {},
   "outputs": [],
   "source": [
    "d2[:]"
   ]
  },
  {
   "cell_type": "markdown",
   "id": "37951932-1f70-4162-8d7e-4a522e41558c",
   "metadata": {},
   "source": [
    "Present Date 09-12-2024 | Class Date 14-08-24"
   ]
  },
  {
   "cell_type": "markdown",
   "id": "7160293d-2787-4cbe-9528-c97bd788e4cb",
   "metadata": {},
   "source": [
    "Concept of Class: Numpy "
   ]
  },
  {
   "cell_type": "code",
   "execution_count": null,
   "id": "d1559976-8a61-4101-acfb-7030b4e0a2ed",
   "metadata": {},
   "outputs": [],
   "source": [
    "import Numpy as np"
   ]
  },
  {
   "cell_type": "code",
   "execution_count": 557,
   "id": "58d08ee1-e1d3-411f-9136-466453dd4ed9",
   "metadata": {},
   "outputs": [],
   "source": [
    "import numpy as np"
   ]
  },
  {
   "cell_type": "code",
   "execution_count": 558,
   "id": "2faa2e98-f5c8-4864-aa4a-6eddfd522708",
   "metadata": {},
   "outputs": [
    {
     "data": {
      "text/plain": [
       "'1.26.4'"
      ]
     },
     "execution_count": 558,
     "metadata": {},
     "output_type": "execute_result"
    }
   ],
   "source": [
    "np.__version__"
   ]
  },
  {
   "cell_type": "code",
   "execution_count": 559,
   "id": "caeb2690-d8aa-4400-8231-af58c5844715",
   "metadata": {},
   "outputs": [],
   "source": [
    "mylist=[1,2,3,4,5]"
   ]
  },
  {
   "cell_type": "code",
   "execution_count": 560,
   "id": "bd4c36a2-0d39-417e-bca6-243f84055dc1",
   "metadata": {},
   "outputs": [],
   "source": [
    "arr=np.array(mylist)"
   ]
  },
  {
   "cell_type": "code",
   "execution_count": 561,
   "id": "64364b77-d057-469b-b611-cb7bc2178610",
   "metadata": {},
   "outputs": [
    {
     "data": {
      "text/plain": [
       "numpy.ndarray"
      ]
     },
     "execution_count": 561,
     "metadata": {},
     "output_type": "execute_result"
    }
   ],
   "source": [
    "type(arr)"
   ]
  },
  {
   "cell_type": "code",
   "execution_count": 562,
   "id": "86c94e67-01e5-4776-9749-528f17ec2918",
   "metadata": {},
   "outputs": [
    {
     "data": {
      "text/plain": [
       "array([1, 2, 3, 4, 5, 6, 7, 8, 9])"
      ]
     },
     "execution_count": 562,
     "metadata": {},
     "output_type": "execute_result"
    }
   ],
   "source": [
    "np.arange(1,10)"
   ]
  },
  {
   "cell_type": "code",
   "execution_count": 563,
   "id": "9d8ced6f-99c1-4fca-9b5d-0e72537c8e90",
   "metadata": {},
   "outputs": [
    {
     "data": {
      "text/plain": [
       "array([-10,  -9,  -8,  -7,  -6,  -5,  -4,  -3,  -2,  -1])"
      ]
     },
     "execution_count": 563,
     "metadata": {},
     "output_type": "execute_result"
    }
   ],
   "source": [
    "np.arange(-10,0)"
   ]
  },
  {
   "cell_type": "code",
   "execution_count": 564,
   "id": "57ba0f6b-53de-4d59-ad39-a46f4a86c61e",
   "metadata": {},
   "outputs": [
    {
     "data": {
      "text/plain": [
       "array([], dtype=int32)"
      ]
     },
     "execution_count": 564,
     "metadata": {},
     "output_type": "execute_result"
    }
   ],
   "source": [
    "np.arange(20,10)"
   ]
  },
  {
   "cell_type": "markdown",
   "id": "38a5b485-9dee-41c2-850e-312ae01e83fd",
   "metadata": {},
   "source": [
    "Numpy functions learning"
   ]
  },
  {
   "cell_type": "code",
   "execution_count": 566,
   "id": "dc48df51-3a3e-411a-b3ba-da559f6e0858",
   "metadata": {},
   "outputs": [
    {
     "ename": "AttributeError",
     "evalue": "module 'numpy' has no attribute 'zero'",
     "output_type": "error",
     "traceback": [
      "\u001b[1;31m---------------------------------------------------------------------------\u001b[0m",
      "\u001b[1;31mAttributeError\u001b[0m                            Traceback (most recent call last)",
      "Cell \u001b[1;32mIn[566], line 1\u001b[0m\n\u001b[1;32m----> 1\u001b[0m np\u001b[38;5;241m.\u001b[39mzero(\u001b[38;5;241m0\u001b[39m)\n",
      "File \u001b[1;32m~\\anaconda3\\Lib\\site-packages\\numpy\\__init__.py:333\u001b[0m, in \u001b[0;36m__getattr__\u001b[1;34m(attr)\u001b[0m\n\u001b[0;32m    330\u001b[0m     \u001b[38;5;124m\"\u001b[39m\u001b[38;5;124mRemoved in NumPy 1.25.0\u001b[39m\u001b[38;5;124m\"\u001b[39m\n\u001b[0;32m    331\u001b[0m     \u001b[38;5;28;01mraise\u001b[39;00m \u001b[38;5;167;01mRuntimeError\u001b[39;00m(\u001b[38;5;124m\"\u001b[39m\u001b[38;5;124mTester was removed in NumPy 1.25.\u001b[39m\u001b[38;5;124m\"\u001b[39m)\n\u001b[1;32m--> 333\u001b[0m \u001b[38;5;28;01mraise\u001b[39;00m \u001b[38;5;167;01mAttributeError\u001b[39;00m(\u001b[38;5;124m\"\u001b[39m\u001b[38;5;124mmodule \u001b[39m\u001b[38;5;132;01m{!r}\u001b[39;00m\u001b[38;5;124m has no attribute \u001b[39m\u001b[38;5;124m\"\u001b[39m\n\u001b[0;32m    334\u001b[0m                      \u001b[38;5;124m\"\u001b[39m\u001b[38;5;132;01m{!r}\u001b[39;00m\u001b[38;5;124m\"\u001b[39m\u001b[38;5;241m.\u001b[39mformat(\u001b[38;5;18m__name__\u001b[39m, attr))\n",
      "\u001b[1;31mAttributeError\u001b[0m: module 'numpy' has no attribute 'zero'"
     ]
    }
   ],
   "source": [
    "np.zero(0)"
   ]
  },
  {
   "cell_type": "code",
   "execution_count": null,
   "id": "e97540e3-9c53-4342-b371-21b87359de97",
   "metadata": {},
   "outputs": [],
   "source": [
    "np.zeros(0)"
   ]
  },
  {
   "cell_type": "code",
   "execution_count": null,
   "id": "382afe6f-3ced-4363-831d-cbeadf7c7c83",
   "metadata": {},
   "outputs": [],
   "source": [
    "np.zeros(0,0)"
   ]
  },
  {
   "cell_type": "code",
   "execution_count": null,
   "id": "c5a80ff1-7662-42fb-9157-beed3645c0fc",
   "metadata": {},
   "outputs": [],
   "source": [
    "np.zeroes(1,1)"
   ]
  },
  {
   "cell_type": "code",
   "execution_count": null,
   "id": "346da5f2-fa2d-4d8d-b368-afa15b4522be",
   "metadata": {},
   "outputs": [],
   "source": [
    "np.zeros(1,1)"
   ]
  },
  {
   "cell_type": "code",
   "execution_count": null,
   "id": "4befe7e4-4ff3-42c9-a8f3-c43164914c1f",
   "metadata": {},
   "outputs": [],
   "source": [
    "np.zeros((1,1))"
   ]
  },
  {
   "cell_type": "code",
   "execution_count": null,
   "id": "c00229d6-9a70-4ff9-a23e-a55bdc7ca579",
   "metadata": {},
   "outputs": [],
   "source": [
    "np.zeros((1,1) dtype=int)"
   ]
  },
  {
   "cell_type": "code",
   "execution_count": null,
   "id": "01c23712-0909-4c72-b945-5d2c488bd3b6",
   "metadata": {},
   "outputs": [],
   "source": [
    "np.zeros((1,1),dtype=int)"
   ]
  },
  {
   "cell_type": "code",
   "execution_count": null,
   "id": "961a5512-0f2b-45f2-bc45-b917ed27783f",
   "metadata": {},
   "outputs": [],
   "source": [
    "np.zeros(1,2)"
   ]
  },
  {
   "cell_type": "code",
   "execution_count": null,
   "id": "17b4df51-a404-4d61-bd2f-cb904e315c65",
   "metadata": {},
   "outputs": [],
   "source": [
    "np.zeros(1)"
   ]
  },
  {
   "cell_type": "code",
   "execution_count": null,
   "id": "7b07d98c-f4ea-4a10-8a26-cbebb02f91e3",
   "metadata": {},
   "outputs": [],
   "source": [
    "np.zeros(1,dtype=int)"
   ]
  },
  {
   "cell_type": "code",
   "execution_count": null,
   "id": "a622975d-afeb-430c-96ed-5f66117e09ef",
   "metadata": {},
   "outputs": [],
   "source": [
    "np.zeros((1,1))"
   ]
  },
  {
   "cell_type": "code",
   "execution_count": null,
   "id": "d8a3b130-c30a-4997-8bd5-706e0ba6dc0b",
   "metadata": {},
   "outputs": [],
   "source": [
    "np.zeros((1,2))"
   ]
  },
  {
   "cell_type": "code",
   "execution_count": null,
   "id": "1d24363b-c983-4f83-8eeb-61c6f5aa7142",
   "metadata": {},
   "outputs": [],
   "source": [
    "np.zeros((1,2),dtype=int)"
   ]
  },
  {
   "cell_type": "code",
   "execution_count": null,
   "id": "3461fb29-f13e-4468-bbbc-7385b91e1fe2",
   "metadata": {},
   "outputs": [],
   "source": [
    "np.zeros((1,5),dtype=int)"
   ]
  },
  {
   "cell_type": "code",
   "execution_count": null,
   "id": "3247ad6f-effd-4f2d-9b91-ce54edd3f006",
   "metadata": {},
   "outputs": [],
   "source": [
    "np.zeros((5,5),dtype=float)"
   ]
  },
  {
   "cell_type": "code",
   "execution_count": null,
   "id": "f16f70b7-40ff-40c4-8509-6a30ccf2c5a5",
   "metadata": {},
   "outputs": [],
   "source": [
    "np.zeros((10,10))"
   ]
  },
  {
   "cell_type": "code",
   "execution_count": null,
   "id": "d73c82ac-d8ae-4e8b-bf29-da2550d68b18",
   "metadata": {},
   "outputs": [],
   "source": [
    "mylist"
   ]
  },
  {
   "cell_type": "code",
   "execution_count": null,
   "id": "0f8e80ac-f6c0-4f9b-a91e-097d920c6e9f",
   "metadata": {},
   "outputs": [],
   "source": [
    "arr2=np.array(mylist)"
   ]
  },
  {
   "cell_type": "code",
   "execution_count": null,
   "id": "88aed4e3-024b-421a-a621-f8a8fe79df00",
   "metadata": {},
   "outputs": [],
   "source": [
    "arr2"
   ]
  },
  {
   "cell_type": "code",
   "execution_count": null,
   "id": "6f6e0148-0b0f-43dd-928b-c63595b7aaa6",
   "metadata": {},
   "outputs": [],
   "source": [
    "type(arr2)"
   ]
  },
  {
   "cell_type": "code",
   "execution_count": null,
   "id": "4b9747d2-3791-41a4-acdb-a4c3bbf8574b",
   "metadata": {},
   "outputs": [],
   "source": [
    "np.arange(0,10)"
   ]
  },
  {
   "cell_type": "markdown",
   "id": "4688b75b-c503-4426-b99d-b14096340b4b",
   "metadata": {},
   "source": [
    "Write function using arange to values are which divisible by 5 upto 100"
   ]
  },
  {
   "cell_type": "code",
   "execution_count": null,
   "id": "85bddc63-aa30-4963-b3b5-308014ea0ce3",
   "metadata": {},
   "outputs": [],
   "source": [
    "np.arange(5,100,5)"
   ]
  },
  {
   "cell_type": "code",
   "execution_count": null,
   "id": "96e3f4a4-f9b0-456b-825b-fb0c83cd2274",
   "metadata": {},
   "outputs": [],
   "source": [
    "arr4=np.arange(5,100,5)"
   ]
  },
  {
   "cell_type": "code",
   "execution_count": null,
   "id": "e6e14884-4f5a-420f-97df-c25a87023982",
   "metadata": {},
   "outputs": [],
   "source": [
    "arr4"
   ]
  },
  {
   "cell_type": "code",
   "execution_count": null,
   "id": "878283f0-0e00-4b5c-8173-14e407d277bc",
   "metadata": {},
   "outputs": [],
   "source": [
    "arr4.len"
   ]
  },
  {
   "cell_type": "code",
   "execution_count": null,
   "id": "4bec29c1-23ca-439a-b91a-bc463fc71f36",
   "metadata": {},
   "outputs": [],
   "source": [
    "len(arr4)"
   ]
  },
  {
   "cell_type": "code",
   "execution_count": null,
   "id": "d07c4ffe-e1a0-4360-8d4c-ebd4e1e8dc6f",
   "metadata": {},
   "outputs": [],
   "source": [
    "np.arange(0,100,3)"
   ]
  },
  {
   "cell_type": "code",
   "execution_count": null,
   "id": "52314aea-5b05-48a8-a277-32f7cfe8e016",
   "metadata": {},
   "outputs": [],
   "source": [
    "len(arr)"
   ]
  },
  {
   "cell_type": "code",
   "execution_count": null,
   "id": "8a502806-be02-489a-b34e-332315348628",
   "metadata": {},
   "outputs": [],
   "source": [
    "len(np.arange(0,100,3))"
   ]
  },
  {
   "cell_type": "code",
   "execution_count": null,
   "id": "cfdcc7fd-a2ba-4ea0-9299-e0e848c1c65d",
   "metadata": {},
   "outputs": [],
   "source": [
    "np.ones((2,2))"
   ]
  },
  {
   "cell_type": "code",
   "execution_count": null,
   "id": "9f8c47db-2f5b-4199-8560-b18b2936f8a3",
   "metadata": {},
   "outputs": [],
   "source": [
    "arr4=np.ones((2,2))"
   ]
  },
  {
   "cell_type": "code",
   "execution_count": null,
   "id": "8e74ccc3-4248-4886-9b37-e7d7a7a24f9f",
   "metadata": {},
   "outputs": [],
   "source": [
    "arr5=np.ones((2,2))"
   ]
  },
  {
   "cell_type": "code",
   "execution_count": null,
   "id": "5b44e3eb-53a8-46eb-9eed-dd36efe88164",
   "metadata": {},
   "outputs": [],
   "source": [
    "arr4+arr5"
   ]
  },
  {
   "cell_type": "code",
   "execution_count": null,
   "id": "719b4864-1c4f-48a0-ba3d-f68f8c3d15b0",
   "metadata": {},
   "outputs": [],
   "source": [
    "np.range(5)"
   ]
  },
  {
   "cell_type": "code",
   "execution_count": null,
   "id": "04439c85-0f7e-4b8e-80bd-c35299dd7e2f",
   "metadata": {},
   "outputs": [],
   "source": [
    "range(5)"
   ]
  },
  {
   "cell_type": "code",
   "execution_count": null,
   "id": "52f0de03-6549-4cd5-a696-e89509727f0c",
   "metadata": {},
   "outputs": [],
   "source": [
    "range(0,5,1)"
   ]
  },
  {
   "cell_type": "code",
   "execution_count": null,
   "id": "8baba850-eb3d-46fb-bc33-daa6db4379d3",
   "metadata": {},
   "outputs": [],
   "source": [
    "range(1,4,1)"
   ]
  },
  {
   "cell_type": "code",
   "execution_count": null,
   "id": "884bb603-2bdd-4544-bf4a-f1e2152e5fc6",
   "metadata": {},
   "outputs": [],
   "source": [
    "range(4)"
   ]
  },
  {
   "cell_type": "code",
   "execution_count": null,
   "id": "7096b666-f4b7-44fc-94f8-54aff5b70d91",
   "metadata": {},
   "outputs": [],
   "source": [
    "for i in range(5):\n",
    "    print(i)\n",
    "    "
   ]
  },
  {
   "cell_type": "code",
   "execution_count": null,
   "id": "929edb62-cbed-4e46-912b-345b5c715ece",
   "metadata": {},
   "outputs": [],
   "source": [
    "for i in range(5):\n",
    "    print(i)"
   ]
  },
  {
   "cell_type": "code",
   "execution_count": null,
   "id": "715bc780-d149-4b5d-868f-6d5170f2e8bb",
   "metadata": {},
   "outputs": [],
   "source": [
    "for i in range(2,9):\n",
    "    print(i)"
   ]
  },
  {
   "cell_type": "code",
   "execution_count": null,
   "id": "98d16d6d-59e9-4e73-92f3-892f8d949fda",
   "metadata": {},
   "outputs": [],
   "source": [
    "for i in range(0,10,2):\n",
    "    print(i)"
   ]
  },
  {
   "cell_type": "code",
   "execution_count": null,
   "id": "ebf57061-e4c0-49e4-a688-2b6096be63bd",
   "metadata": {},
   "outputs": [],
   "source": [
    "for i in range(5,0,-1):\n",
    "    print(i)"
   ]
  },
  {
   "cell_type": "code",
   "execution_count": null,
   "id": "56a9dc20-4bd7-4859-b993-8cbdbe4dec86",
   "metadata": {},
   "outputs": [],
   "source": [
    "for i in range(-100,0,-1):\n",
    "    print(i)"
   ]
  },
  {
   "cell_type": "code",
   "execution_count": null,
   "id": "f7fe37df-3991-47a7-aab7-264df971d914",
   "metadata": {},
   "outputs": [],
   "source": [
    "for i in range(-100,0,1):\n",
    "    print(i)"
   ]
  },
  {
   "cell_type": "markdown",
   "id": "c5fbfa01-4f5b-480f-9738-76d1f85f2ddd",
   "metadata": {},
   "source": [
    "Creating a List from Range"
   ]
  },
  {
   "cell_type": "code",
   "execution_count": null,
   "id": "208036e5-dad8-4cb0-8ce7-ee7d4a3bf798",
   "metadata": {},
   "outputs": [],
   "source": [
    "numbers=list(range(10))\n",
    "print(numbers)"
   ]
  },
  {
   "cell_type": "markdown",
   "id": "86ee984b-b48b-4efd-b1bf-a27b16d3a179",
   "metadata": {},
   "source": [
    "**Using Range in List Comprehensions**: Create a list of squares of numbers from 0 to 4."
   ]
  },
  {
   "cell_type": "code",
   "execution_count": null,
   "id": "bdb03d54-2b06-435d-a258-75e38ec2a699",
   "metadata": {},
   "outputs": [],
   "source": [
    "squares=[i**2 for i in range(5)]"
   ]
  },
  {
   "cell_type": "code",
   "execution_count": null,
   "id": "65710711-1a38-4aec-866b-a26e378a1ea0",
   "metadata": {},
   "outputs": [],
   "source": [
    "squares"
   ]
  },
  {
   "cell_type": "markdown",
   "id": "cc19f658-3db0-45b7-955e-7c587689e809",
   "metadata": {},
   "source": [
    "examples of numpy random rand"
   ]
  },
  {
   "cell_type": "markdown",
   "id": "55ea741d-f685-402b-b699-3d2eb5f648fd",
   "metadata": {},
   "source": [
    "#Generate a Single Random Number"
   ]
  },
  {
   "cell_type": "code",
   "execution_count": null,
   "id": "9c046bfa-fa10-48f2-b380-23b938b87311",
   "metadata": {},
   "outputs": [],
   "source": [
    "import numpy as np\n",
    "\n",
    "random_number=np.random.rand()\n",
    "print(random_number)"
   ]
  },
  {
   "cell_type": "code",
   "execution_count": null,
   "id": "8c4a974c-bc63-4e00-9f43-8a6bd94dc242",
   "metadata": {},
   "outputs": [],
   "source": [
    "np.random.rand((4,4),dtype=int)"
   ]
  },
  {
   "cell_type": "code",
   "execution_count": null,
   "id": "818ec757-372a-4681-a994-259a3938a669",
   "metadata": {},
   "outputs": [],
   "source": [
    "np.random.randint((4,4))"
   ]
  },
  {
   "cell_type": "code",
   "execution_count": null,
   "id": "01422bbe-3d12-47e5-b33d-20b006ac1960",
   "metadata": {},
   "outputs": [],
   "source": [
    "np.random.randint(4)"
   ]
  },
  {
   "cell_type": "code",
   "execution_count": null,
   "id": "7e1327f4-93b3-4b37-a0a6-fe348d6d92f2",
   "metadata": {},
   "outputs": [],
   "source": [
    "np.random.randint(4)"
   ]
  },
  {
   "cell_type": "code",
   "execution_count": null,
   "id": "d4102c28-e77c-4521-9a52-49508792a2c0",
   "metadata": {},
   "outputs": [],
   "source": [
    "np.random.randint(4)"
   ]
  },
  {
   "cell_type": "code",
   "execution_count": null,
   "id": "755b3271-1397-47e0-bc5d-ef61637cd4cc",
   "metadata": {},
   "outputs": [],
   "source": [
    "np.random.randint(4)"
   ]
  },
  {
   "cell_type": "code",
   "execution_count": null,
   "id": "56d3894d-f4af-4051-8c44-ef06d17873dc",
   "metadata": {},
   "outputs": [],
   "source": [
    "np.random.randint(4)"
   ]
  },
  {
   "cell_type": "code",
   "execution_count": null,
   "id": "95f07808-fc95-410b-991e-3e6cadb291f7",
   "metadata": {},
   "outputs": [],
   "source": [
    "np.random.randint(4)"
   ]
  },
  {
   "cell_type": "code",
   "execution_count": null,
   "id": "d5e0bcee-858a-41a8-8f4f-a371d4549528",
   "metadata": {},
   "outputs": [],
   "source": [
    "np.random.randint(4)"
   ]
  },
  {
   "cell_type": "code",
   "execution_count": null,
   "id": "6eaf210f-c98c-415f-92f9-c47781488284",
   "metadata": {},
   "outputs": [],
   "source": [
    "np.random.randint(4)"
   ]
  },
  {
   "cell_type": "code",
   "execution_count": null,
   "id": "3893a807-a080-40b4-85a5-ee50df9e6497",
   "metadata": {},
   "outputs": [],
   "source": [
    "np.random.randint(4)"
   ]
  },
  {
   "cell_type": "code",
   "execution_count": null,
   "id": "064b5c4b-a674-4d15-9225-687b44946c2c",
   "metadata": {},
   "outputs": [],
   "source": [
    "np.random.randint(4)"
   ]
  },
  {
   "cell_type": "code",
   "execution_count": null,
   "id": "da00f7a6-0001-4aa0-b986-5834cc7bd390",
   "metadata": {},
   "outputs": [],
   "source": [
    "np.random.randint(4)"
   ]
  },
  {
   "cell_type": "code",
   "execution_count": null,
   "id": "149fd4fa-ac06-426f-a660-7c33d4791149",
   "metadata": {},
   "outputs": [],
   "source": [
    "np.random.randint(4)"
   ]
  },
  {
   "cell_type": "code",
   "execution_count": null,
   "id": "3e119ba2-0771-4678-b3ab-02b05f4b2394",
   "metadata": {},
   "outputs": [],
   "source": [
    "np.random.randint(4)"
   ]
  },
  {
   "cell_type": "code",
   "execution_count": null,
   "id": "8f49942c-d5b5-4ea8-935a-f637590147d5",
   "metadata": {},
   "outputs": [],
   "source": []
  },
  {
   "cell_type": "markdown",
   "id": "d503400b-3ee4-4d89-bc4b-253ee50241ae",
   "metadata": {},
   "source": [
    "# Assistant\n",
    "The error occurs because you are trying to access the length of a NumPy array using `.len`, which is not the correct way to do it. In Python, the correct way to get the length of an array (or any iterable) is to use the built-in `len()` function.\n",
    "\n",
    "To fix this error, you should replace `arr4.len` with `len(arr4)`.\n",
    "\n",
    "Would you like me to provide the corrected code?"
   ]
  },
  {
   "cell_type": "markdown",
   "id": "480a83d8-8346-4400-9967-c55da6ce4729",
   "metadata": {},
   "source": [
    "# User\n",
    "range function examples"
   ]
  },
  {
   "cell_type": "markdown",
   "id": "70ad4d7f-1d51-420d-846c-834d2a5eccfd",
   "metadata": {},
   "source": [
    "# Assistant\n",
    "Here are some examples of how to use the `range()` function in Python:\n",
    "\n",
    "1. **Basic Usage**: Generate a sequence of numbers from 0 to 4.\n",
    "   "
   ]
  },
  {
   "cell_type": "code",
   "execution_count": null,
   "id": "e79b1877-ef77-42bf-8870-83be10e14950",
   "metadata": {},
   "outputs": [],
   "source": [
    "   for i in range(5):\n",
    "       print(i)\n",
    "   # Output: 0, 1, 2, 3, 4\n",
    "   "
   ]
  },
  {
   "cell_type": "markdown",
   "id": "d0a2ab42-d44c-4ffc-ae1d-4d2ed26d46a2",
   "metadata": {},
   "source": [
    "\n",
    "2. **Specifying Start and Stop**: Generate numbers from 2 to 6.\n",
    "   "
   ]
  },
  {
   "cell_type": "code",
   "execution_count": null,
   "id": "6b2d0f1a-36c5-4f26-80c8-8b914cecb5f4",
   "metadata": {},
   "outputs": [],
   "source": [
    "   for i in range(2, 7):\n",
    "       print(i)\n",
    "   # Output: 2, 3, 4, 5, 6\n",
    "   "
   ]
  },
  {
   "cell_type": "markdown",
   "id": "ee8d4517-459b-4dfd-8873-4c3c345e4e34",
   "metadata": {},
   "source": [
    "\n",
    "3. **Specifying Step**: Generate numbers from 0 to 10 with a step of 2.\n",
    "   "
   ]
  },
  {
   "cell_type": "code",
   "execution_count": null,
   "id": "d04037e5-4d08-4923-ad72-64f5006e678a",
   "metadata": {},
   "outputs": [],
   "source": [
    "   for i in range(0, 11, 2):\n",
    "       print(i)\n",
    "   # Output: 0, 2, 4, 6, 8, 10\n",
    "   "
   ]
  },
  {
   "cell_type": "markdown",
   "id": "84f0ed09-7f8a-4358-b983-39cf58385749",
   "metadata": {},
   "source": [
    "\n",
    "4. **Using Negative Step**: Generate numbers from 5 to 1 in reverse order.\n",
    "   "
   ]
  },
  {
   "cell_type": "code",
   "execution_count": null,
   "id": "ed1aab36-e3cc-4d28-9ab6-ad02ddfe02c6",
   "metadata": {},
   "outputs": [],
   "source": [
    "   for i in range(5, 0, -1):\n",
    "       print(i)\n",
    "   # Output: 5, 4, 3, 2, 1\n",
    "   "
   ]
  },
  {
   "cell_type": "markdown",
   "id": "8926f57a-7c4d-4b74-9794-054fcb520fc9",
   "metadata": {},
   "source": [
    "\n",
    "5. **Creating a List from Range**: Create a list of numbers from 0 to 9.\n",
    "   "
   ]
  },
  {
   "cell_type": "code",
   "execution_count": null,
   "id": "27123175-bd57-4d34-b0e6-39435b0bf8d8",
   "metadata": {},
   "outputs": [],
   "source": [
    "   numbers = list(range(10))\n",
    "   print(numbers)\n",
    "   # Output: [0, 1, 2, 3, 4, 5, 6, 7, 8, 9]\n",
    "   "
   ]
  },
  {
   "cell_type": "markdown",
   "id": "cdc27ce3-74de-4d7f-a56a-85482d097ca9",
   "metadata": {},
   "source": [
    "\n",
    "6. **Using Range in List Comprehensions**: Create a list of squares of numbers from 0 to 4.\n",
    "   "
   ]
  },
  {
   "cell_type": "code",
   "execution_count": null,
   "id": "50fb033a-384f-4ed9-8ecf-ac1904529332",
   "metadata": {},
   "outputs": [],
   "source": [
    "   squares = [i**2 for i in range(5)]\n",
    "   print(squares)\n",
    "   # Output: [0, 1, 4, 9, 16]\n",
    "   "
   ]
  },
  {
   "cell_type": "markdown",
   "id": "6de531cd-5014-4bcc-b12c-32a7db3fe16e",
   "metadata": {},
   "source": [
    "\n",
    "These examples demonstrate the versatility of the `range()` function in generating sequences of numbers for loops, list comprehensions, and more. If you have any specific use cases or questions about `range()`, feel free to ask!"
   ]
  },
  {
   "cell_type": "markdown",
   "id": "241e65b2-98e9-4d26-818b-3e1b40787ce3",
   "metadata": {},
   "source": [
    "# User\n",
    "examples of numpy random rand"
   ]
  },
  {
   "cell_type": "markdown",
   "id": "0552441d-1966-4eaa-9d95-2df41b98e89c",
   "metadata": {},
   "source": [
    "# Assistant\n",
    "The `numpy.random.rand()` function is used to generate random numbers from a uniform distribution over the interval [0.0, 1.0). Here are some examples of how to use `numpy.random.rand()`:\n",
    "\n",
    "1. **Generate a Single Random Number**:\n",
    "   "
   ]
  },
  {
   "cell_type": "code",
   "execution_count": null,
   "id": "286cd135-ec85-4d4c-97f0-d517a05e31d7",
   "metadata": {},
   "outputs": [],
   "source": [
    "   import numpy as np\n",
    "\n",
    "   random_number = np.random.rand()\n",
    "   print(random_number)\n",
    "   # Output: A single random number between 0 and 1\n",
    "   "
   ]
  },
  {
   "cell_type": "markdown",
   "id": "948786f1-7716-4603-afd4-f3760344a0a3",
   "metadata": {},
   "source": [
    "\n",
    "2. **Generate a 1D Array of Random Numbers**:\n",
    "   "
   ]
  },
  {
   "cell_type": "code",
   "execution_count": null,
   "id": "3d974bd7-b37c-4a07-b5e6-b5aca3139c18",
   "metadata": {},
   "outputs": [],
   "source": [
    "   random_array_1d = np.random.rand(5)  # 5 random numbers\n",
    "   print(random_array_1d)\n",
    "   # Output: An array of 5 random numbers between 0 and 1\n",
    "   "
   ]
  },
  {
   "cell_type": "markdown",
   "id": "5c56c568-5e16-436b-a9e4-5d90d64eeea7",
   "metadata": {},
   "source": [
    "\n",
    "3. **Generate a 2D Array of Random Numbers**:\n",
    "   "
   ]
  },
  {
   "cell_type": "code",
   "execution_count": null,
   "id": "8b71f1ac-f1ff-4dd0-9ede-abdfb2b58756",
   "metadata": {},
   "outputs": [],
   "source": [
    "   random_array_2d = np.random.rand(3, 4)  # 3 rows and 4 columns\n",
    "   print(random_array_2d)\n",
    "   # Output: A 3x4 array of random numbers between 0 and 1\n",
    "   "
   ]
  },
  {
   "cell_type": "markdown",
   "id": "5e920d34-f27f-4e22-9d48-62c38934dac0",
   "metadata": {},
   "source": [
    "\n",
    "4. **Generate a 3D Array of Random Numbers**:\n",
    "   "
   ]
  },
  {
   "cell_type": "code",
   "execution_count": null,
   "id": "47dbbcee-060d-435a-abb7-f49f6c810676",
   "metadata": {},
   "outputs": [],
   "source": [
    "   random_array_3d = np.random.rand(2, 3, 4)  # 2x3x4 array\n",
    "   print(random_array_3d)\n",
    "   # Output: A 3D array with shape (2, 3, 4) filled with random numbers\n",
    "   "
   ]
  },
  {
   "cell_type": "markdown",
   "id": "9c748b1d-6078-4160-98f7-e6d5764011c8",
   "metadata": {},
   "source": [
    "\n",
    "5. **Generate Random Numbers with Different Shapes**:\n",
    "   "
   ]
  },
  {
   "cell_type": "code",
   "execution_count": null,
   "id": "9345e415-79a6-4c90-abd0-dc91b416d357",
   "metadata": {},
   "outputs": [],
   "source": [
    "   random_array_shape = np.random.rand(2, 2, 2)  # 2x2x2 array\n",
    "   print(random_array_shape)\n",
    "   # Output: A 2x2x2 array of random numbers\n",
    "   "
   ]
  },
  {
   "cell_type": "markdown",
   "id": "5314de69-6542-4e73-b4a3-14f4a59c40e7",
   "metadata": {},
   "source": [
    "\n",
    "6. **Using Random Numbers in Calculations**:\n",
    "   "
   ]
  },
  {
   "cell_type": "code",
   "execution_count": null,
   "id": "672b0137-ad9c-407e-9792-e8514e8506bd",
   "metadata": {},
   "outputs": [],
   "source": [
    "   random_numbers = np.random.rand(5)\n",
    "   squared_numbers = random_numbers ** 2\n",
    "   print(\"Random Numbers:\", random_numbers)\n",
    "   print(\"Squared Numbers:\", squared_numbers)\n",
    "   # Output: Displays the random numbers and their squares\n",
    "   "
   ]
  },
  {
   "cell_type": "markdown",
   "id": "2e822590-702c-453c-a7ff-15f7dc5142eb",
   "metadata": {},
   "source": [
    "\n",
    "These examples illustrate how to generate random numbers using `numpy.random.rand()` in various shapes and dimensions. If you have any specific scenarios or further questions about using this function, feel free to ask!"
   ]
  },
  {
   "cell_type": "code",
   "execution_count": null,
   "id": "e315b933-7a0a-4f3a-b570-053737ec89a8",
   "metadata": {},
   "outputs": [],
   "source": [
    "#I want to generate random number below 100"
   ]
  },
  {
   "cell_type": "code",
   "execution_count": null,
   "id": "b59b399b-b91f-4a54-97fe-580eaf13b82f",
   "metadata": {},
   "outputs": [],
   "source": [
    "np.random.randint(100)"
   ]
  },
  {
   "cell_type": "code",
   "execution_count": null,
   "id": "712a3525-655b-422d-908e-7242234388cf",
   "metadata": {},
   "outputs": [],
   "source": [
    "np.random.randint(100)"
   ]
  },
  {
   "cell_type": "code",
   "execution_count": null,
   "id": "f9f75563-6a37-4ade-b547-c5a999921132",
   "metadata": {},
   "outputs": [],
   "source": [
    "np.random.randint(100)"
   ]
  },
  {
   "cell_type": "code",
   "execution_count": null,
   "id": "9137a1ef-486d-4e8c-9a54-da13cc294cd4",
   "metadata": {},
   "outputs": [],
   "source": [
    "np.random.randint(100)"
   ]
  },
  {
   "cell_type": "code",
   "execution_count": null,
   "id": "1d8bd991-05f1-440e-af57-ca34abbe4f59",
   "metadata": {},
   "outputs": [],
   "source": [
    "np.random.randint(100)"
   ]
  },
  {
   "cell_type": "code",
   "execution_count": null,
   "id": "ad0abe47-9923-4a1d-835e-6e4d48f79baa",
   "metadata": {},
   "outputs": [],
   "source": [
    "#Generate 1D random number"
   ]
  },
  {
   "cell_type": "code",
   "execution_count": null,
   "id": "2d963e5b-1bbf-49c7-ba98-9b8f98062d81",
   "metadata": {},
   "outputs": [],
   "source": [
    "random_array_1=np.random.rand(5)\n",
    "print(random_array_1)"
   ]
  },
  {
   "cell_type": "code",
   "execution_count": null,
   "id": "73b14f3f-36ea-4452-95ee-21b5e75ede70",
   "metadata": {},
   "outputs": [],
   "source": [
    "random_array_1=np.random.randint(5)\n",
    "print(random_array_1)"
   ]
  },
  {
   "cell_type": "code",
   "execution_count": null,
   "id": "9b09fc45-5f81-49ca-af82-6f0bf795b1ed",
   "metadata": {},
   "outputs": [],
   "source": [
    "random_array_2d=np.random.rand(3,4)\n",
    "print(random_array_2d)"
   ]
  },
  {
   "cell_type": "code",
   "execution_count": null,
   "id": "83459f3c-4c44-4794-9238-5ec74cb6b40d",
   "metadata": {},
   "outputs": [],
   "source": [
    "#Generate a 3D Array of Random Numbers\n",
    "random_array_3d=np.random.rand(2,3,4)\n",
    "print(random_array_3d)"
   ]
  },
  {
   "cell_type": "code",
   "execution_count": null,
   "id": "4ec763de-b03d-4ed7-a3ed-791e796a7125",
   "metadata": {},
   "outputs": [],
   "source": [
    "#trial random array creation\n",
    "random_array_4=np.random.rand(3,3,4)\n",
    "print(random_array_4)"
   ]
  },
  {
   "cell_type": "code",
   "execution_count": null,
   "id": "56cfed25-0feb-4600-aa77-99d5f3de784e",
   "metadata": {},
   "outputs": [],
   "source": [
    "#another trial random array creation\n",
    "random_array_4=np.random.rand(4,2,2)\n",
    "print(random_array_4)"
   ]
  },
  {
   "cell_type": "code",
   "execution_count": null,
   "id": "d726a08f-d139-49fe-92f8-8489cd9f8d45",
   "metadata": {},
   "outputs": [],
   "source": [
    "#Using Random numbers in Calculations\n",
    "random_numbers=np.random.rand(5)\n",
    "squared_number=random_number**2"
   ]
  },
  {
   "cell_type": "code",
   "execution_count": null,
   "id": "f924ede2-6403-4c0c-8004-429799438e67",
   "metadata": {},
   "outputs": [],
   "source": [
    "print(\"Random Number\",random_numbers)"
   ]
  },
  {
   "cell_type": "code",
   "execution_count": null,
   "id": "21fb7590-a1c1-4e4b-b367-705a8d526e5b",
   "metadata": {},
   "outputs": [],
   "source": [
    "print(\"Squared Number\",squared_number)"
   ]
  },
  {
   "cell_type": "code",
   "execution_count": null,
   "id": "ed5d6695-6c2c-4dd7-a8ed-a3f930fed80e",
   "metadata": {},
   "outputs": [],
   "source": [
    "squared_number=random_number ** 2\n",
    "print(\"Squared Number\",squared_number)"
   ]
  },
  {
   "cell_type": "markdown",
   "id": "da7f52d1-fc40-41c7-a21f-df1c3d480ba2",
   "metadata": {},
   "source": [
    "#Array Matrix Indexing Slicing Masking Flitering"
   ]
  },
  {
   "cell_type": "code",
   "execution_count": null,
   "id": "d3f5c3a3-db23-4ef0-ac41-e006643364bb",
   "metadata": {},
   "outputs": [],
   "source": [
    "#Present Date 09-12-24,Class Date 16-08-24"
   ]
  },
  {
   "cell_type": "code",
   "execution_count": null,
   "id": "4248e084-76e3-4509-ad50-f24c8100c2f0",
   "metadata": {},
   "outputs": [],
   "source": [
    "np.arange(0,100).reshape(10,10)"
   ]
  },
  {
   "cell_type": "code",
   "execution_count": null,
   "id": "224b6985-eeda-4d26-80e3-6e73735058e3",
   "metadata": {},
   "outputs": [],
   "source": [
    "mat=np.arange(0,100).reshape(10,10)"
   ]
  },
  {
   "cell_type": "code",
   "execution_count": null,
   "id": "903afb40-21f7-4ea3-a02b-c28fe58d8bd3",
   "metadata": {},
   "outputs": [],
   "source": [
    "mat"
   ]
  },
  {
   "cell_type": "code",
   "execution_count": null,
   "id": "651fc9b4-f877-429d-8700-e5fc70183d7d",
   "metadata": {},
   "outputs": [],
   "source": [
    "mat[:]"
   ]
  },
  {
   "cell_type": "code",
   "execution_count": null,
   "id": "d0ed673a-5a83-4661-bebf-815211a2e817",
   "metadata": {},
   "outputs": [],
   "source": [
    "mat[1:]"
   ]
  },
  {
   "cell_type": "code",
   "execution_count": null,
   "id": "1eb81dc7-8807-4090-b901-4bb1f0ac841d",
   "metadata": {},
   "outputs": [],
   "source": [
    "mat[2:]"
   ]
  },
  {
   "cell_type": "code",
   "execution_count": null,
   "id": "87f06837-c655-45f7-8164-89a7962d97aa",
   "metadata": {},
   "outputs": [],
   "source": [
    "mat[3:]"
   ]
  },
  {
   "cell_type": "code",
   "execution_count": null,
   "id": "e5361518-7163-4f32-92d2-fe6ccdbb2766",
   "metadata": {},
   "outputs": [],
   "source": [
    "mat[4:]"
   ]
  },
  {
   "cell_type": "code",
   "execution_count": null,
   "id": "20825959-37f3-48dc-8f95-8c696a03c659",
   "metadata": {},
   "outputs": [],
   "source": [
    "mat[4]"
   ]
  },
  {
   "cell_type": "code",
   "execution_count": null,
   "id": "ce363f3e-9816-4891-b467-f73e643b2c69",
   "metadata": {},
   "outputs": [],
   "source": [
    "mat"
   ]
  },
  {
   "cell_type": "code",
   "execution_count": null,
   "id": "7c13f5b8-d0cd-44d3-b432-a8b21d286ab0",
   "metadata": {},
   "outputs": [],
   "source": [
    "mat[2:2]"
   ]
  },
  {
   "cell_type": "code",
   "execution_count": null,
   "id": "2374cc49-6be3-49b6-957e-dc9e1a8dbac1",
   "metadata": {},
   "outputs": [],
   "source": [
    "mat[0:0]"
   ]
  },
  {
   "cell_type": "code",
   "execution_count": null,
   "id": "311a5308-b058-4898-b3bc-5821696463ad",
   "metadata": {},
   "outputs": [],
   "source": [
    "mat[0:0,0:1]"
   ]
  },
  {
   "cell_type": "code",
   "execution_count": null,
   "id": "330e24db-15b0-48b9-9331-83c5ad5fb87a",
   "metadata": {},
   "outputs": [],
   "source": [
    "mat[0]"
   ]
  },
  {
   "cell_type": "code",
   "execution_count": 567,
   "id": "2ccbd538-cbc4-423b-8713-5c4736307feb",
   "metadata": {},
   "outputs": [
    {
     "ename": "NameError",
     "evalue": "name 'mat' is not defined",
     "output_type": "error",
     "traceback": [
      "\u001b[1;31m---------------------------------------------------------------------------\u001b[0m",
      "\u001b[1;31mNameError\u001b[0m                                 Traceback (most recent call last)",
      "Cell \u001b[1;32mIn[567], line 1\u001b[0m\n\u001b[1;32m----> 1\u001b[0m mat[\u001b[38;5;241m0\u001b[39m:\u001b[38;5;241m1\u001b[39m]\n",
      "\u001b[1;31mNameError\u001b[0m: name 'mat' is not defined"
     ]
    }
   ],
   "source": [
    "mat[0:1]"
   ]
  },
  {
   "cell_type": "code",
   "execution_count": null,
   "id": "2af25130-56b0-4212-a6e2-f4913f89da96",
   "metadata": {},
   "outputs": [],
   "source": [
    "mat[0:2]"
   ]
  },
  {
   "cell_type": "code",
   "execution_count": null,
   "id": "247d6518-d09e-4e2b-a1b6-5178361ba4cb",
   "metadata": {},
   "outputs": [],
   "source": [
    "mat[0:0]"
   ]
  },
  {
   "cell_type": "code",
   "execution_count": null,
   "id": "d2f91b1d-5b0d-4a0e-bd59-2323bd967fc5",
   "metadata": {},
   "outputs": [],
   "source": [
    "mat[0:10]"
   ]
  },
  {
   "cell_type": "code",
   "execution_count": null,
   "id": "db6d1730-bcda-4ccc-bb57-53677e37c45b",
   "metadata": {},
   "outputs": [],
   "source": [
    "mat[0:9]"
   ]
  },
  {
   "cell_type": "code",
   "execution_count": null,
   "id": "55889c1b-45e2-474d-8b70-4e91645b48dc",
   "metadata": {},
   "outputs": [],
   "source": [
    "mat[0:3]"
   ]
  },
  {
   "cell_type": "code",
   "execution_count": null,
   "id": "6ccbfb15-6c67-401e-9b17-e07b1c8b1c16",
   "metadata": {},
   "outputs": [],
   "source": [
    "mat[0::]"
   ]
  },
  {
   "cell_type": "markdown",
   "id": "783f088a-f12c-4a4d-bb53-998012d2f479",
   "metadata": {},
   "source": [
    "# Assistant\n",
    "The error occurs because you are trying to access the length of a NumPy array using `.len`, which is not the correct way to do it. In Python, the correct way to get the length of an array (or any iterable) is to use the built-in `len()` function.\n",
    "\n",
    "To fix this error, you should replace `arr4.len` with `len(arr4)`.\n",
    "\n",
    "Would you like me to provide the corrected code?"
   ]
  },
  {
   "cell_type": "markdown",
   "id": "497b7235-4e52-47c4-a420-0663ad5f1cf9",
   "metadata": {},
   "source": [
    "# User\n",
    "range function examples"
   ]
  },
  {
   "cell_type": "markdown",
   "id": "626ce241-d39d-4041-8e51-a07b5daee459",
   "metadata": {},
   "source": [
    "# Assistant\n",
    "Here are some examples of how to use the `range()` function in Python:\n",
    "\n",
    "1. **Basic Usage**: Generate a sequence of numbers from 0 to 4.\n",
    "   "
   ]
  },
  {
   "cell_type": "code",
   "execution_count": null,
   "id": "7cfe42f2-4699-49c7-9037-e92f43d48aeb",
   "metadata": {},
   "outputs": [],
   "source": [
    "   for i in range(5):\n",
    "       print(i)\n",
    "   # Output: 0, 1, 2, 3, 4\n",
    "   "
   ]
  },
  {
   "cell_type": "markdown",
   "id": "c811641e-aaf3-4d4d-ae5c-cba4330603f9",
   "metadata": {},
   "source": [
    "\n",
    "2. **Specifying Start and Stop**: Generate numbers from 2 to 6.\n",
    "   "
   ]
  },
  {
   "cell_type": "code",
   "execution_count": null,
   "id": "31e748de-983a-4ee4-9f10-a0c187f9270e",
   "metadata": {},
   "outputs": [],
   "source": [
    "   for i in range(2, 7):\n",
    "       print(i)\n",
    "   # Output: 2, 3, 4, 5, 6\n",
    "   "
   ]
  },
  {
   "cell_type": "markdown",
   "id": "db6cab2b-591c-4d75-a482-5c7961efe177",
   "metadata": {},
   "source": [
    "\n",
    "3. **Specifying Step**: Generate numbers from 0 to 10 with a step of 2.\n",
    "   "
   ]
  },
  {
   "cell_type": "code",
   "execution_count": null,
   "id": "a0ccdc78-4256-457f-a5f5-c6f0e447107b",
   "metadata": {},
   "outputs": [],
   "source": [
    "   for i in range(0, 11, 2):\n",
    "       print(i)\n",
    "   # Output: 0, 2, 4, 6, 8, 10\n",
    "   "
   ]
  },
  {
   "cell_type": "markdown",
   "id": "451d3e73-0b6f-451d-a764-8406530cbd0b",
   "metadata": {},
   "source": [
    "\n",
    "4. **Using Negative Step**: Generate numbers from 5 to 1 in reverse order.\n",
    "   "
   ]
  },
  {
   "cell_type": "code",
   "execution_count": null,
   "id": "f2369ae0-36bd-45a4-8561-b74995f71cc1",
   "metadata": {},
   "outputs": [],
   "source": [
    "   for i in range(5, 0, -1):\n",
    "       print(i)\n",
    "   # Output: 5, 4, 3, 2, 1\n",
    "   "
   ]
  },
  {
   "cell_type": "markdown",
   "id": "5297bc9e-d3fc-484c-b90a-f7ebe7f54073",
   "metadata": {},
   "source": [
    "\n",
    "5. **Creating a List from Range**: Create a list of numbers from 0 to 9.\n",
    "   "
   ]
  },
  {
   "cell_type": "code",
   "execution_count": null,
   "id": "805e804c-10f8-47cc-bfae-c11446c71420",
   "metadata": {},
   "outputs": [],
   "source": [
    "   numbers = list(range(10))\n",
    "   print(numbers)\n",
    "   # Output: [0, 1, 2, 3, 4, 5, 6, 7, 8, 9]\n",
    "   "
   ]
  },
  {
   "cell_type": "markdown",
   "id": "0c0ef97a-4775-42e9-990a-61ed12f1b6df",
   "metadata": {},
   "source": [
    "\n",
    "6. **Using Range in List Comprehensions**: Create a list of squares of numbers from 0 to 4.\n",
    "   "
   ]
  },
  {
   "cell_type": "code",
   "execution_count": null,
   "id": "07027f3e-e5b0-4255-8ae7-ac7c9b486348",
   "metadata": {},
   "outputs": [],
   "source": [
    "   squares = [i**2 for i in range(5)]\n",
    "   print(squares)\n",
    "   # Output: [0, 1, 4, 9, 16]\n",
    "   "
   ]
  },
  {
   "cell_type": "markdown",
   "id": "ed25fff4-886d-44d9-8d82-98f5f3b12c8b",
   "metadata": {},
   "source": [
    "\n",
    "These examples demonstrate the versatility of the `range()` function in generating sequences of numbers for loops, list comprehensions, and more. If you have any specific use cases or questions about `range()`, feel free to ask!"
   ]
  },
  {
   "cell_type": "markdown",
   "id": "65295a7f-1b83-4594-a906-77226bc64df5",
   "metadata": {},
   "source": [
    "# User\n",
    "examples of numpy random rand"
   ]
  },
  {
   "cell_type": "markdown",
   "id": "3c70e615-5923-4000-9fe7-25e8084f2d57",
   "metadata": {},
   "source": [
    "# Assistant\n",
    "The `numpy.random.rand()` function is used to generate random numbers from a uniform distribution over the interval [0.0, 1.0). Here are some examples of how to use `numpy.random.rand()`:\n",
    "\n",
    "1. **Generate a Single Random Number**:\n",
    "   "
   ]
  },
  {
   "cell_type": "code",
   "execution_count": null,
   "id": "2b259e9e-0205-47f6-8da3-be34cf82a393",
   "metadata": {},
   "outputs": [],
   "source": [
    "   import numpy as np\n",
    "\n",
    "   random_number = np.random.rand()\n",
    "   print(random_number)\n",
    "   # Output: A single random number between 0 and 1\n",
    "   "
   ]
  },
  {
   "cell_type": "markdown",
   "id": "ef3ca820-479a-4872-9dc1-e8d5a495235e",
   "metadata": {},
   "source": [
    "\n",
    "2. **Generate a 1D Array of Random Numbers**:\n",
    "   "
   ]
  },
  {
   "cell_type": "code",
   "execution_count": null,
   "id": "86891bb7-cb59-4ca1-b864-a4c764e68547",
   "metadata": {},
   "outputs": [],
   "source": [
    "   random_array_1d = np.random.rand(5)  # 5 random numbers\n",
    "   print(random_array_1d)\n",
    "   # Output: An array of 5 random numbers between 0 and 1\n",
    "   "
   ]
  },
  {
   "cell_type": "markdown",
   "id": "1834f861-7b52-40e6-831d-ffb35bccee6f",
   "metadata": {},
   "source": [
    "\n",
    "3. **Generate a 2D Array of Random Numbers**:\n",
    "   "
   ]
  },
  {
   "cell_type": "code",
   "execution_count": null,
   "id": "ca2f7664-4ea9-497b-8b09-8cc7a8f24323",
   "metadata": {},
   "outputs": [],
   "source": [
    "   random_array_2d = np.random.rand(3, 4)  # 3 rows and 4 columns\n",
    "   print(random_array_2d)\n",
    "   # Output: A 3x4 array of random numbers between 0 and 1\n",
    "   "
   ]
  },
  {
   "cell_type": "markdown",
   "id": "5f208bac-14fb-46f0-9e3e-a6d14577281b",
   "metadata": {},
   "source": [
    "\n",
    "4. **Generate a 3D Array of Random Numbers**:\n",
    "   "
   ]
  },
  {
   "cell_type": "code",
   "execution_count": null,
   "id": "4baac36e-b490-4768-9e65-6f84d2e88fee",
   "metadata": {},
   "outputs": [],
   "source": [
    "   random_array_3d = np.random.rand(2, 3, 4)  # 2x3x4 array\n",
    "   print(random_array_3d)\n",
    "   # Output: A 3D array with shape (2, 3, 4) filled with random numbers\n",
    "   "
   ]
  },
  {
   "cell_type": "markdown",
   "id": "2583b5a7-9a25-4c0a-a0c3-2575106a14c9",
   "metadata": {},
   "source": [
    "\n",
    "5. **Generate Random Numbers with Different Shapes**:\n",
    "   "
   ]
  },
  {
   "cell_type": "code",
   "execution_count": null,
   "id": "1660e99e-51de-4381-9c59-63d9ad32d9cd",
   "metadata": {},
   "outputs": [],
   "source": [
    "   random_array_shape = np.random.rand(2, 2, 2)  # 2x2x2 array\n",
    "   print(random_array_shape)\n",
    "   # Output: A 2x2x2 array of random numbers\n",
    "   "
   ]
  },
  {
   "cell_type": "markdown",
   "id": "7e4068a8-b9e7-411d-b829-30774f3c2433",
   "metadata": {},
   "source": [
    "\n",
    "6. **Using Random Numbers in Calculations**:\n",
    "   "
   ]
  },
  {
   "cell_type": "code",
   "execution_count": null,
   "id": "c523865e-8b3c-42a4-99cb-b8eb5511145a",
   "metadata": {},
   "outputs": [],
   "source": [
    "   random_numbers = np.random.rand(5)\n",
    "   squared_numbers = random_numbers ** 2\n",
    "   print(\"Random Numbers:\", random_numbers)\n",
    "   print(\"Squared Numbers:\", squared_numbers)\n",
    "   # Output: Displays the random numbers and their squares\n",
    "   "
   ]
  },
  {
   "cell_type": "markdown",
   "id": "4d178f45-b274-4783-92e4-0452fe2f89fe",
   "metadata": {},
   "source": [
    "\n",
    "These examples illustrate how to generate random numbers using `numpy.random.rand()` in various shapes and dimensions. If you have any specific scenarios or further questions about using this function, feel free to ask!"
   ]
  },
  {
   "cell_type": "markdown",
   "id": "87697cf3-3422-4c83-a169-edc97859fff7",
   "metadata": {},
   "source": [
    "# User\n",
    "slicing examples"
   ]
  },
  {
   "cell_type": "markdown",
   "id": "4cddd0ce-b234-4702-8cbc-ef9b132ec2c1",
   "metadata": {},
   "source": [
    "# Assistant\n",
    "Slicing is a powerful feature in Python that allows you to access a subset of elements from sequences like lists, tuples, and NumPy arrays. Here are some examples of slicing in different contexts:\n",
    "\n",
    "### 1. **Slicing a List**"
   ]
  },
  {
   "cell_type": "code",
   "execution_count": null,
   "id": "0ae23ca0-6787-4410-8c58-05d889c72107",
   "metadata": {},
   "outputs": [],
   "source": [
    "# Create a list\n",
    "my_list = [0, 1, 2, 3, 4, 5, 6, 7, 8, 9]\n",
    "\n",
    "# Get elements from index 2 to 5 (exclusive)\n",
    "sliced_list = my_list[2:5]\n",
    "print(sliced_list)  # Output: [2, 3, 4]"
   ]
  },
  {
   "cell_type": "markdown",
   "id": "f3639bf4-6569-408c-b487-b6d732cafc87",
   "metadata": {},
   "source": [
    "\n",
    "### 2. **Slicing with Step**"
   ]
  },
  {
   "cell_type": "code",
   "execution_count": null,
   "id": "7aff8baf-5e6e-4917-8f6e-889ab0902fb0",
   "metadata": {},
   "outputs": [],
   "source": [
    "# Get every second element from the list\n",
    "sliced_list_step = my_list[::2]\n",
    "print(sliced_list_step)  # Output: [0, 2, 4, 6, 8]"
   ]
  },
  {
   "cell_type": "markdown",
   "id": "969f85c4-5511-4e73-bece-992d73ce54ec",
   "metadata": {},
   "source": [
    "\n",
    "### 3. **Negative Indices**"
   ]
  },
  {
   "cell_type": "code",
   "execution_count": null,
   "id": "9930715a-b0a7-410d-a1ec-17be20a61fbe",
   "metadata": {},
   "outputs": [],
   "source": [
    "# Get the last three elements of the list\n",
    "sliced_list_negative = my_list[-3:]\n",
    "print(sliced_list_negative)  # Output: [7, 8, 9]"
   ]
  },
  {
   "cell_type": "markdown",
   "id": "c791a46d-d8ef-43be-8055-ac5905401ad9",
   "metadata": {},
   "source": [
    "\n",
    "### 4. **Slicing a Tuple**"
   ]
  },
  {
   "cell_type": "code",
   "execution_count": null,
   "id": "83966468-98d8-4aea-8bb0-c86a7f781765",
   "metadata": {},
   "outputs": [],
   "source": [
    "# Create a tuple\n",
    "my_tuple = (10, 20, 30, 40, 50)\n",
    "\n",
    "# Get elements from index 1 to 3 (exclusive)\n",
    "sliced_tuple = my_tuple[1:3]\n",
    "print(sliced_tuple)  # Output: (20, 30)"
   ]
  },
  {
   "cell_type": "markdown",
   "id": "b6ff0ee6-0cce-4c34-9042-272a365800c6",
   "metadata": {},
   "source": [
    "\n",
    "### 5. **Slicing a String**"
   ]
  },
  {
   "cell_type": "code",
   "execution_count": null,
   "id": "1307885f-14be-45e2-8d15-7aa98748ae8b",
   "metadata": {},
   "outputs": [],
   "source": [
    "# Create a string\n",
    "my_string = \"Hello, World!\"\n",
    "\n",
    "# Get characters from index 7 to the end\n",
    "sliced_string = my_string[7:]\n",
    "print(sliced_string)  # Output: \"World!\""
   ]
  },
  {
   "cell_type": "markdown",
   "id": "bb2971f4-6ad2-4c3f-88a8-177e83ebb0f9",
   "metadata": {},
   "source": [
    "\n",
    "### 6. **Slicing a NumPy Array**"
   ]
  },
  {
   "cell_type": "code",
   "execution_count": null,
   "id": "924b6754-7dc4-482b-b28c-90bebe6fd5bd",
   "metadata": {},
   "outputs": [],
   "source": [
    "import numpy as np\n",
    "\n",
    "# Create a NumPy array\n",
    "arr = np.array([10, 20, 30, 40, 50, 60, 70, 80, 90])\n",
    "\n",
    "# Get elements from index 3 to 6 (exclusive)\n",
    "sliced_array = arr[3:6]\n",
    "print(sliced_array)  # Output: [40 50 60]"
   ]
  },
  {
   "cell_type": "markdown",
   "id": "095b17ff-f2a5-407c-8047-b6a0694e754f",
   "metadata": {},
   "source": [
    "\n",
    "### 7. **2D NumPy Array Slicing**"
   ]
  },
  {
   "cell_type": "code",
   "execution_count": null,
   "id": "60a0d204-0de9-46f8-aa26-2606f844fa88",
   "metadata": {},
   "outputs": [],
   "source": [
    "# Create a 2D NumPy array\n",
    "arr_2d = np.array([[1, 2, 3], [4, 5, 6], [7, 8, 9]])\n",
    "\n",
    "# Get the first two rows and the first two columns\n",
    "sliced_2d_array = arr_2d[:2, :2]\n",
    "print(sliced_2d_array)\n",
    "# Output:\n",
    "# [[1 2]\n",
    "#  [4 5]]"
   ]
  },
  {
   "cell_type": "markdown",
   "id": "4f99d655-5911-4e94-b43e-b9f9e56e649a",
   "metadata": {},
   "source": [
    "\n",
    "### 8. **Slicing with Step in NumPy**"
   ]
  },
  {
   "cell_type": "code",
   "execution_count": null,
   "id": "16ed9a24-0bd0-4854-bcbc-a9848e2d12b0",
   "metadata": {},
   "outputs": [],
   "source": [
    "# Get every second row from a 2D array\n",
    "sliced_2d_step = arr_2d[::2, :]\n",
    "print(sliced_2d_step)\n",
    "# Output:\n",
    "# [[1 2 3]\n",
    "#  [7 8 9]]"
   ]
  },
  {
   "cell_type": "markdown",
   "id": "37d76c59-b727-4c7a-820d-ce8cf834e63f",
   "metadata": {},
   "source": [
    "\n",
    "These examples demonstrate how to use slicing in various data structures in Python. If you have any specific questions or need further examples, feel free to ask!"
   ]
  },
  {
   "cell_type": "code",
   "execution_count": null,
   "id": "8615412a-e347-4e63-8d82-792538bbf040",
   "metadata": {},
   "outputs": [],
   "source": [
    "mat[1::0]"
   ]
  },
  {
   "cell_type": "code",
   "execution_count": null,
   "id": "97ab818a-53c7-4136-a3e6-4ce4a45c9ebd",
   "metadata": {},
   "outputs": [],
   "source": [
    "mat[1::]"
   ]
  },
  {
   "cell_type": "code",
   "execution_count": null,
   "id": "8d354699-517b-4c51-8e26-a747a215e277",
   "metadata": {},
   "outputs": [],
   "source": [
    "mat[1:]"
   ]
  },
  {
   "cell_type": "code",
   "execution_count": null,
   "id": "faff0883-af6a-4266-b40b-d9135727cae8",
   "metadata": {},
   "outputs": [],
   "source": [
    "mat[2:]"
   ]
  },
  {
   "cell_type": "code",
   "execution_count": null,
   "id": "0d844444-2191-482c-b6b7-bd73e20d0fc2",
   "metadata": {},
   "outputs": [],
   "source": [
    "mat[1::]"
   ]
  },
  {
   "cell_type": "code",
   "execution_count": null,
   "id": "431cc00c-1c56-44b8-8a88-4f14bf7cd599",
   "metadata": {},
   "outputs": [],
   "source": [
    "mat"
   ]
  },
  {
   "cell_type": "code",
   "execution_count": null,
   "id": "ee8a7c09-a602-4921-9cb1-0374dfc78bbb",
   "metadata": {},
   "outputs": [],
   "source": [
    "mat[9:]"
   ]
  },
  {
   "cell_type": "code",
   "execution_count": null,
   "id": "4ca5b49d-2131-4448-aeb3-c2141461573f",
   "metadata": {},
   "outputs": [],
   "source": [
    "mat[8:]"
   ]
  },
  {
   "cell_type": "code",
   "execution_count": null,
   "id": "76a2d9e1-6e4f-41aa-88b3-316856aac0ed",
   "metadata": {},
   "outputs": [],
   "source": [
    "mat[8]"
   ]
  },
  {
   "cell_type": "code",
   "execution_count": null,
   "id": "8e3f8a6f-3991-4c5c-929f-10a161ff849d",
   "metadata": {},
   "outputs": [],
   "source": [
    "mat[-3]"
   ]
  },
  {
   "cell_type": "code",
   "execution_count": null,
   "id": "56140faa-2d1d-4dc0-a043-efc2511ae6f6",
   "metadata": {},
   "outputs": [],
   "source": [
    "mat[-9]"
   ]
  },
  {
   "cell_type": "code",
   "execution_count": null,
   "id": "66eb0d9f-8945-457c-add4-d60cfada1f13",
   "metadata": {},
   "outputs": [],
   "source": [
    "mat[-10]"
   ]
  },
  {
   "cell_type": "code",
   "execution_count": null,
   "id": "661ef964-9a9c-48b2-a836-fdcc89ab61dd",
   "metadata": {},
   "outputs": [],
   "source": [
    "mat[::-1]"
   ]
  },
  {
   "cell_type": "code",
   "execution_count": null,
   "id": "6f16e178-1c95-4c5b-9e9e-aa83382e8867",
   "metadata": {},
   "outputs": [],
   "source": [
    "mat[:-1]"
   ]
  },
  {
   "cell_type": "code",
   "execution_count": null,
   "id": "e1048efb-aab6-4ea2-b748-cf8f916e9c61",
   "metadata": {},
   "outputs": [],
   "source": [
    "mat[-1::]"
   ]
  },
  {
   "cell_type": "code",
   "execution_count": null,
   "id": "5de099e1-8154-4a84-a564-c9d5231d072f",
   "metadata": {},
   "outputs": [],
   "source": [
    "mat"
   ]
  },
  {
   "cell_type": "code",
   "execution_count": null,
   "id": "6ae7e49e-bf6a-4836-b3fb-de7ad680ff09",
   "metadata": {},
   "outputs": [],
   "source": [
    "mat[:-1]"
   ]
  },
  {
   "cell_type": "code",
   "execution_count": null,
   "id": "8c0d0e1f-7fd2-4d59-847b-eb9230b969f0",
   "metadata": {},
   "outputs": [],
   "source": [
    "mat[-1]"
   ]
  },
  {
   "cell_type": "code",
   "execution_count": null,
   "id": "261678b8-9203-4d37-8493-e6c26bac7fa4",
   "metadata": {},
   "outputs": [],
   "source": [
    "mat"
   ]
  },
  {
   "cell_type": "code",
   "execution_count": null,
   "id": "e60e4ab1-e8ff-4975-8e31-6e062be74b09",
   "metadata": {},
   "outputs": [],
   "source": [
    "mat[-1]"
   ]
  },
  {
   "cell_type": "code",
   "execution_count": null,
   "id": "1b7bbe4f-e664-42ac-a508-1bfa6ea51347",
   "metadata": {},
   "outputs": [],
   "source": [
    "mat[-10]"
   ]
  },
  {
   "cell_type": "code",
   "execution_count": null,
   "id": "d38e70fd-85c9-4bec-b011-88f8b4e3d114",
   "metadata": {},
   "outputs": [],
   "source": [
    "mat[9:10]"
   ]
  },
  {
   "cell_type": "code",
   "execution_count": null,
   "id": "c68fbd11-b66b-4e4b-a12b-d2ee67b6b257",
   "metadata": {},
   "outputs": [],
   "source": [
    "mat[::1]"
   ]
  },
  {
   "cell_type": "code",
   "execution_count": null,
   "id": "51684ff0-5957-4bee-8859-e0c03e5a606a",
   "metadata": {},
   "outputs": [],
   "source": [
    "mat[::]"
   ]
  },
  {
   "cell_type": "code",
   "execution_count": null,
   "id": "f8b46635-500e-4913-9bc0-e8fc0cd662b0",
   "metadata": {},
   "outputs": [],
   "source": [
    "mat[::3]"
   ]
  },
  {
   "cell_type": "code",
   "execution_count": null,
   "id": "c0272d38-dc61-402a-a374-7eae9db44dc6",
   "metadata": {},
   "outputs": [],
   "source": [
    "mat[0::2]"
   ]
  },
  {
   "cell_type": "code",
   "execution_count": null,
   "id": "131306bf-5739-4bfc-94ba-1e6b5fe6191e",
   "metadata": {},
   "outputs": [],
   "source": [
    "mat[::2]"
   ]
  },
  {
   "cell_type": "code",
   "execution_count": null,
   "id": "880fd863-54bf-4ecd-8550-c645f644bdf6",
   "metadata": {},
   "outputs": [],
   "source": [
    "mat[1:5]"
   ]
  },
  {
   "cell_type": "code",
   "execution_count": null,
   "id": "9038a44b-1417-4747-8cdc-90870fe7cf71",
   "metadata": {},
   "outputs": [],
   "source": [
    "mat"
   ]
  },
  {
   "cell_type": "code",
   "execution_count": null,
   "id": "631131ac-da4c-435e-a334-ed419e5d269a",
   "metadata": {},
   "outputs": [],
   "source": [
    "mat[-3::]"
   ]
  },
  {
   "cell_type": "code",
   "execution_count": null,
   "id": "2c558ba4-0b14-4eb6-958c-3ec978a92832",
   "metadata": {},
   "outputs": [],
   "source": [
    "mat"
   ]
  },
  {
   "cell_type": "code",
   "execution_count": null,
   "id": "2ce8cfee-8a27-41ef-b5bc-fcafeea9e9a8",
   "metadata": {},
   "outputs": [],
   "source": [
    "mat[8:8]"
   ]
  },
  {
   "cell_type": "code",
   "execution_count": null,
   "id": "5adfc350-4d8e-434a-a11a-031d7c47c75f",
   "metadata": {},
   "outputs": [],
   "source": [
    "mat[8,8]"
   ]
  },
  {
   "cell_type": "code",
   "execution_count": null,
   "id": "ae784b09-71bf-4155-ba2f-fa9e2b6f1f06",
   "metadata": {},
   "outputs": [],
   "source": [
    "mat[9,99]"
   ]
  },
  {
   "cell_type": "code",
   "execution_count": null,
   "id": "cc1ac5be-9333-4852-af3f-921128ab59c7",
   "metadata": {},
   "outputs": [],
   "source": [
    "mat[0,9]"
   ]
  },
  {
   "cell_type": "code",
   "execution_count": null,
   "id": "75a9243e-6ba3-4583-a102-7b918aca30a6",
   "metadata": {},
   "outputs": [],
   "source": [
    "mat[0:9,9:9]"
   ]
  },
  {
   "cell_type": "code",
   "execution_count": 568,
   "id": "756b6374-4e8c-40c4-871d-8a867fffd2bf",
   "metadata": {},
   "outputs": [
    {
     "ename": "NameError",
     "evalue": "name 'mat' is not defined",
     "output_type": "error",
     "traceback": [
      "\u001b[1;31m---------------------------------------------------------------------------\u001b[0m",
      "\u001b[1;31mNameError\u001b[0m                                 Traceback (most recent call last)",
      "Cell \u001b[1;32mIn[568], line 1\u001b[0m\n\u001b[1;32m----> 1\u001b[0m mat[\u001b[38;5;241m0\u001b[39m:\u001b[38;5;241m9\u001b[39m]\n",
      "\u001b[1;31mNameError\u001b[0m: name 'mat' is not defined"
     ]
    }
   ],
   "source": [
    "mat[0:9]"
   ]
  },
  {
   "cell_type": "code",
   "execution_count": null,
   "id": "cbc94b7e-5231-400d-af7d-329876ff9f2b",
   "metadata": {},
   "outputs": [],
   "source": [
    "#Operations"
   ]
  },
  {
   "cell_type": "code",
   "execution_count": null,
   "id": "6956a490-4044-4376-978d-44f3e77e0cc2",
   "metadata": {},
   "outputs": [],
   "source": [
    "arr_11=np.random.randint(10,20,5)"
   ]
  },
  {
   "cell_type": "code",
   "execution_count": null,
   "id": "f22bbcfa-d2ab-47d8-a43d-25ef2f470869",
   "metadata": {},
   "outputs": [],
   "source": [
    "arr_11"
   ]
  },
  {
   "cell_type": "code",
   "execution_count": null,
   "id": "268e2256-333f-408f-8de0-01062ee18544",
   "metadata": {},
   "outputs": [],
   "source": [
    "arr"
   ]
  },
  {
   "cell_type": "code",
   "execution_count": null,
   "id": "a7d4de68-a247-46c5-a7cd-ecba16eff767",
   "metadata": {},
   "outputs": [],
   "source": [
    "list"
   ]
  },
  {
   "cell_type": "code",
   "execution_count": null,
   "id": "54942396-8b51-45b5-84a0-1e1157c4dc9a",
   "metadata": {},
   "outputs": [],
   "source": [
    "mylist"
   ]
  },
  {
   "cell_type": "code",
   "execution_count": null,
   "id": "d414176f-eecc-49ff-b73f-bd3b9b03afef",
   "metadata": {},
   "outputs": [],
   "source": [
    "arr_12=np.array(mylist)"
   ]
  },
  {
   "cell_type": "code",
   "execution_count": null,
   "id": "ed798438-be71-4b78-a8be-883247040441",
   "metadata": {},
   "outputs": [],
   "source": [
    "arr_13=np.random.randint(0,100,(10,10))"
   ]
  },
  {
   "cell_type": "code",
   "execution_count": null,
   "id": "7f6caf1b-8535-41ee-9417-aa5e2babb7ba",
   "metadata": {},
   "outputs": [],
   "source": [
    "arr_13"
   ]
  },
  {
   "cell_type": "code",
   "execution_count": null,
   "id": "04423516-fa17-48d4-bae2-43fa593e4e9a",
   "metadata": {},
   "outputs": [],
   "source": [
    "mat"
   ]
  },
  {
   "cell_type": "code",
   "execution_count": null,
   "id": "658571c4-bcbb-46cf-b0e1-f8ca0044d354",
   "metadata": {},
   "outputs": [],
   "source": [
    "#print 4th row"
   ]
  },
  {
   "cell_type": "code",
   "execution_count": null,
   "id": "e68a92c3-93be-481d-a2a5-901a9f211c7a",
   "metadata": {},
   "outputs": [],
   "source": [
    "mat[3]"
   ]
  },
  {
   "cell_type": "code",
   "execution_count": null,
   "id": "38284bfd-eeb8-4754-9660-a7557df1669d",
   "metadata": {},
   "outputs": [],
   "source": [
    "#mat[3:2] [1:8] [:8][3:-8] [-3:4]"
   ]
  },
  {
   "cell_type": "code",
   "execution_count": null,
   "id": "79b47596-9bb7-4b51-8eae-e4954bb0ec80",
   "metadata": {},
   "outputs": [],
   "source": [
    "mat[3:2]"
   ]
  },
  {
   "cell_type": "code",
   "execution_count": null,
   "id": "99d79e54-0d6c-41eb-a233-57b3284d057f",
   "metadata": {},
   "outputs": [],
   "source": [
    "mat[0]"
   ]
  },
  {
   "cell_type": "code",
   "execution_count": null,
   "id": "ad0647b5-ac8e-4dd5-bfa2-fdb9fc44bf1e",
   "metadata": {},
   "outputs": [],
   "source": [
    "mat[1]"
   ]
  },
  {
   "cell_type": "code",
   "execution_count": 569,
   "id": "529678b0-fb79-4f5c-9144-1e6aa20511ee",
   "metadata": {},
   "outputs": [
    {
     "ename": "NameError",
     "evalue": "name 'mat' is not defined",
     "output_type": "error",
     "traceback": [
      "\u001b[1;31m---------------------------------------------------------------------------\u001b[0m",
      "\u001b[1;31mNameError\u001b[0m                                 Traceback (most recent call last)",
      "Cell \u001b[1;32mIn[569], line 1\u001b[0m\n\u001b[1;32m----> 1\u001b[0m mat[\u001b[38;5;241m2\u001b[39m]\n",
      "\u001b[1;31mNameError\u001b[0m: name 'mat' is not defined"
     ]
    }
   ],
   "source": [
    "mat[2]"
   ]
  },
  {
   "cell_type": "code",
   "execution_count": null,
   "id": "8dea1476-96f5-4090-adde-f8abfe44ecae",
   "metadata": {},
   "outputs": [],
   "source": [
    "mat"
   ]
  },
  {
   "cell_type": "code",
   "execution_count": null,
   "id": "400a8874-5e68-4ad7-adf3-88bddb630aae",
   "metadata": {},
   "outputs": [],
   "source": [
    "mat[3]"
   ]
  },
  {
   "cell_type": "code",
   "execution_count": null,
   "id": "634be0fb-dadc-4408-aee5-d2d16c640d50",
   "metadata": {},
   "outputs": [],
   "source": [
    "mat[4]"
   ]
  },
  {
   "cell_type": "code",
   "execution_count": null,
   "id": "186ce51b-d52b-4879-aa88-6141a3f39d61",
   "metadata": {},
   "outputs": [],
   "source": [
    "mat[9]"
   ]
  },
  {
   "cell_type": "code",
   "execution_count": null,
   "id": "60b378ff-9336-4af7-930e-89204fa3079d",
   "metadata": {},
   "outputs": [],
   "source": [
    "mat[8]"
   ]
  },
  {
   "cell_type": "code",
   "execution_count": null,
   "id": "6c91d84c-f318-4524-ac2e-6dc1d20ab65a",
   "metadata": {},
   "outputs": [],
   "source": [
    "mat[7]"
   ]
  },
  {
   "cell_type": "code",
   "execution_count": null,
   "id": "37c2bce5-fd44-428a-9c09-38c55cdf8ad6",
   "metadata": {},
   "outputs": [],
   "source": [
    "mat[:5]"
   ]
  },
  {
   "cell_type": "code",
   "execution_count": null,
   "id": "f93c7546-af31-4128-809f-bf2d590d6b2f",
   "metadata": {},
   "outputs": [],
   "source": [
    "mat[1:10]"
   ]
  },
  {
   "cell_type": "code",
   "execution_count": null,
   "id": "46a2a2e2-34f2-4cab-a818-f8eb5acb1827",
   "metadata": {},
   "outputs": [],
   "source": [
    "mat[1:9]"
   ]
  },
  {
   "cell_type": "code",
   "execution_count": null,
   "id": "99149254-73d9-46e8-a519-33ac0b9a39e6",
   "metadata": {},
   "outputs": [],
   "source": [
    "mat[0:10]"
   ]
  },
  {
   "cell_type": "code",
   "execution_count": 570,
   "id": "02ee034c-8d61-4541-aae3-9120e27c66a0",
   "metadata": {},
   "outputs": [
    {
     "ename": "NameError",
     "evalue": "name 'mat' is not defined",
     "output_type": "error",
     "traceback": [
      "\u001b[1;31m---------------------------------------------------------------------------\u001b[0m",
      "\u001b[1;31mNameError\u001b[0m                                 Traceback (most recent call last)",
      "Cell \u001b[1;32mIn[570], line 1\u001b[0m\n\u001b[1;32m----> 1\u001b[0m mat[\u001b[38;5;241m0\u001b[39m:\u001b[38;5;241m9\u001b[39m]\n",
      "\u001b[1;31mNameError\u001b[0m: name 'mat' is not defined"
     ]
    }
   ],
   "source": [
    "mat[0:9]"
   ]
  },
  {
   "cell_type": "code",
   "execution_count": null,
   "id": "bb2e024c-0214-4882-9d24-066511e117bd",
   "metadata": {},
   "outputs": [],
   "source": [
    "mat[-1:]"
   ]
  },
  {
   "cell_type": "code",
   "execution_count": null,
   "id": "bd7ac81a-397d-416c-bbdd-21cfc86635b0",
   "metadata": {},
   "outputs": [],
   "source": [
    "mat[-10:]"
   ]
  },
  {
   "cell_type": "code",
   "execution_count": null,
   "id": "b9106820-8baa-4ae0-b725-e1d2bdfe0696",
   "metadata": {},
   "outputs": [],
   "source": [
    "mat[:]"
   ]
  },
  {
   "cell_type": "code",
   "execution_count": null,
   "id": "cee4623e-8f41-4d18-9790-34efa6a317e8",
   "metadata": {},
   "outputs": [],
   "source": [
    "mat[0:10]"
   ]
  },
  {
   "cell_type": "code",
   "execution_count": null,
   "id": "c13a43c7-25cd-46e8-b619-696ec1df3bca",
   "metadata": {},
   "outputs": [],
   "source": [
    "mat"
   ]
  },
  {
   "cell_type": "code",
   "execution_count": null,
   "id": "52452209-a12a-4f6c-90fb-f3ed1b563d75",
   "metadata": {},
   "outputs": [],
   "source": [
    "mat[-10:-1]"
   ]
  },
  {
   "cell_type": "code",
   "execution_count": null,
   "id": "fc7039f3-3ea9-4e32-a655-45f141cefdf5",
   "metadata": {},
   "outputs": [],
   "source": [
    "mat[-10:0]"
   ]
  },
  {
   "cell_type": "code",
   "execution_count": null,
   "id": "883d71fd-c072-4aa3-bc6b-8d739fd4e17f",
   "metadata": {},
   "outputs": [],
   "source": [
    "mat[-10:]"
   ]
  },
  {
   "cell_type": "code",
   "execution_count": null,
   "id": "8ff8fe00-e003-4ec7-9afb-9545ccbb3c32",
   "metadata": {},
   "outputs": [],
   "source": [
    "mat[-10:10]"
   ]
  },
  {
   "cell_type": "code",
   "execution_count": null,
   "id": "182f163b-ce99-4856-9c4f-69772db8e187",
   "metadata": {},
   "outputs": [],
   "source": [
    "mat[10:-10]"
   ]
  },
  {
   "cell_type": "code",
   "execution_count": 571,
   "id": "8530b5d4-e0f8-49e4-941c-f4da57f76a78",
   "metadata": {},
   "outputs": [
    {
     "ename": "NameError",
     "evalue": "name 'mat' is not defined",
     "output_type": "error",
     "traceback": [
      "\u001b[1;31m---------------------------------------------------------------------------\u001b[0m",
      "\u001b[1;31mNameError\u001b[0m                                 Traceback (most recent call last)",
      "Cell \u001b[1;32mIn[571], line 1\u001b[0m\n\u001b[1;32m----> 1\u001b[0m mat[\u001b[38;5;241m-\u001b[39m\u001b[38;5;241m2\u001b[39m]\n",
      "\u001b[1;31mNameError\u001b[0m: name 'mat' is not defined"
     ]
    }
   ],
   "source": [
    "mat[-2]"
   ]
  },
  {
   "cell_type": "code",
   "execution_count": null,
   "id": "d54c2dfb-451a-4418-8f9c-4fe22bbefecd",
   "metadata": {},
   "outputs": [],
   "source": [
    "mat"
   ]
  },
  {
   "cell_type": "code",
   "execution_count": null,
   "id": "5869e3c4-3daa-4d20-82da-4d8ba661a51c",
   "metadata": {},
   "outputs": [],
   "source": [
    "mat[-5]"
   ]
  },
  {
   "cell_type": "code",
   "execution_count": null,
   "id": "c510f672-8c99-4923-a2f2-cd210ef2e389",
   "metadata": {},
   "outputs": [],
   "source": [
    "mat[3:8]"
   ]
  },
  {
   "cell_type": "code",
   "execution_count": null,
   "id": "c9659720-6ac0-49b0-ac90-f70d0fcb302b",
   "metadata": {},
   "outputs": [],
   "source": [
    "mat[::-1]"
   ]
  },
  {
   "cell_type": "code",
   "execution_count": null,
   "id": "61e1f7ed-1b28-4e1a-8fb8-a3c25e6c55c0",
   "metadata": {},
   "outputs": [],
   "source": [
    "mat[::-2]"
   ]
  },
  {
   "cell_type": "code",
   "execution_count": null,
   "id": "86f8c701-8ab3-4eac-8976-f150ad6de27f",
   "metadata": {},
   "outputs": [],
   "source": [
    "mat[::-3]"
   ]
  },
  {
   "cell_type": "code",
   "execution_count": null,
   "id": "34d87a91-9f12-4d52-b676-aefcbabc0636",
   "metadata": {},
   "outputs": [],
   "source": [
    "mat[::-4]"
   ]
  },
  {
   "cell_type": "code",
   "execution_count": null,
   "id": "c87928b6-9713-43fe-80fb-6368ef3edf66",
   "metadata": {},
   "outputs": [],
   "source": [
    "mat[::-5]"
   ]
  },
  {
   "cell_type": "code",
   "execution_count": null,
   "id": "eeca7786-78e3-471e-9450-5bf09ecc111c",
   "metadata": {},
   "outputs": [],
   "source": [
    "mat[::-6]"
   ]
  },
  {
   "cell_type": "code",
   "execution_count": 572,
   "id": "20d4be10-7e49-4c6f-a1b1-f4bb3b4aff5c",
   "metadata": {},
   "outputs": [
    {
     "ename": "NameError",
     "evalue": "name 'mat' is not defined",
     "output_type": "error",
     "traceback": [
      "\u001b[1;31m---------------------------------------------------------------------------\u001b[0m",
      "\u001b[1;31mNameError\u001b[0m                                 Traceback (most recent call last)",
      "Cell \u001b[1;32mIn[572], line 1\u001b[0m\n\u001b[1;32m----> 1\u001b[0m mat[::\u001b[38;5;241m-\u001b[39m\u001b[38;5;241m7\u001b[39m]\n",
      "\u001b[1;31mNameError\u001b[0m: name 'mat' is not defined"
     ]
    }
   ],
   "source": [
    "mat[::-7]"
   ]
  },
  {
   "cell_type": "code",
   "execution_count": null,
   "id": "17e81102-0621-48c1-93e8-d9c3346cd270",
   "metadata": {},
   "outputs": [],
   "source": [
    "mat[::-8]"
   ]
  },
  {
   "cell_type": "code",
   "execution_count": null,
   "id": "92f124a7-4cb4-42a8-99ec-85beef888fa8",
   "metadata": {},
   "outputs": [],
   "source": [
    "mat[::-9]"
   ]
  },
  {
   "cell_type": "code",
   "execution_count": null,
   "id": "2db2dc9b-5fac-4292-a2c4-c805971a0960",
   "metadata": {},
   "outputs": [],
   "source": [
    "mat[::-10]"
   ]
  },
  {
   "cell_type": "code",
   "execution_count": null,
   "id": "2b43f029-2f9f-4a61-a2ae-a371aec7958b",
   "metadata": {},
   "outputs": [],
   "source": [
    "arr_11"
   ]
  },
  {
   "cell_type": "code",
   "execution_count": null,
   "id": "2c8dae5a-ad83-4097-a424-139d0f1da906",
   "metadata": {},
   "outputs": [],
   "source": [
    "arr"
   ]
  },
  {
   "cell_type": "code",
   "execution_count": null,
   "id": "129f2c0f-79ae-4d1e-88b6-0b08f4c00fa9",
   "metadata": {},
   "outputs": [],
   "source": [
    "arr_13"
   ]
  },
  {
   "cell_type": "code",
   "execution_count": null,
   "id": "d75709af-3178-4228-874b-ba3f24572a0e",
   "metadata": {},
   "outputs": [],
   "source": [
    "arr_14"
   ]
  },
  {
   "cell_type": "code",
   "execution_count": null,
   "id": "57fe6df8-1742-4186-83e0-72c8451e1733",
   "metadata": {},
   "outputs": [],
   "source": [
    "arr_14=np.array([0,1,2,3,4,5])"
   ]
  },
  {
   "cell_type": "code",
   "execution_count": 573,
   "id": "2f9516b0-9e19-4319-a32d-aa0e8203739f",
   "metadata": {},
   "outputs": [
    {
     "ename": "NameError",
     "evalue": "name 'arr_14' is not defined",
     "output_type": "error",
     "traceback": [
      "\u001b[1;31m---------------------------------------------------------------------------\u001b[0m",
      "\u001b[1;31mNameError\u001b[0m                                 Traceback (most recent call last)",
      "Cell \u001b[1;32mIn[573], line 1\u001b[0m\n\u001b[1;32m----> 1\u001b[0m arr_14\n",
      "\u001b[1;31mNameError\u001b[0m: name 'arr_14' is not defined"
     ]
    }
   ],
   "source": [
    "arr_14"
   ]
  },
  {
   "cell_type": "code",
   "execution_count": null,
   "id": "12523c10-6845-4807-8f57-1c48fc01185e",
   "metadata": {},
   "outputs": [],
   "source": [
    "arr_14.reshape(2,3)"
   ]
  },
  {
   "cell_type": "code",
   "execution_count": null,
   "id": "d1a11b3f-29f2-41f9-9cb9-d2c482ffbbaa",
   "metadata": {},
   "outputs": [],
   "source": [
    "arr_14.reshape(2,2)"
   ]
  },
  {
   "cell_type": "code",
   "execution_count": null,
   "id": "af7adb40-77d3-4bc0-b24a-d3d5da83df82",
   "metadata": {},
   "outputs": [],
   "source": [
    "arr_14.reshape(3,2)"
   ]
  },
  {
   "cell_type": "code",
   "execution_count": null,
   "id": "b086cca5-0499-4b4b-abf0-5352a9dcb7ff",
   "metadata": {},
   "outputs": [],
   "source": [
    "# 3types of reshape F,C,A"
   ]
  },
  {
   "cell_type": "code",
   "execution_count": null,
   "id": "538af872-7489-4940-87db-0b75d12babb1",
   "metadata": {},
   "outputs": [],
   "source": [
    "arr_14"
   ]
  },
  {
   "cell_type": "code",
   "execution_count": null,
   "id": "385491a3-cbb6-44a0-955e-ad387df5c62c",
   "metadata": {},
   "outputs": [],
   "source": [
    "arr_14.reshape((2,3),order='F')"
   ]
  },
  {
   "cell_type": "code",
   "execution_count": null,
   "id": "69331a72-d16d-4d6d-bbcf-a9c9d63a0fff",
   "metadata": {},
   "outputs": [],
   "source": [
    "arr_14.reshape((2,3),order='C')"
   ]
  },
  {
   "cell_type": "code",
   "execution_count": null,
   "id": "ae9ca473-02f2-42bf-b9b7-360d6cd6cc69",
   "metadata": {},
   "outputs": [],
   "source": [
    "arr_14.reshape((3,2), order='A')"
   ]
  },
  {
   "cell_type": "code",
   "execution_count": null,
   "id": "24f70bbb-8335-4bf0-a983-3de892c8b63b",
   "metadata": {},
   "outputs": [],
   "source": [
    "mat"
   ]
  },
  {
   "cell_type": "code",
   "execution_count": null,
   "id": "bd116a48-3d74-40e4-9593-004138651417",
   "metadata": {},
   "outputs": [],
   "source": [
    "mat[6]"
   ]
  },
  {
   "cell_type": "code",
   "execution_count": 574,
   "id": "39c238d8-cbd9-41da-8f8d-ad2fabfe6fe0",
   "metadata": {},
   "outputs": [
    {
     "ename": "NameError",
     "evalue": "name 'mat' is not defined",
     "output_type": "error",
     "traceback": [
      "\u001b[1;31m---------------------------------------------------------------------------\u001b[0m",
      "\u001b[1;31mNameError\u001b[0m                                 Traceback (most recent call last)",
      "Cell \u001b[1;32mIn[574], line 1\u001b[0m\n\u001b[1;32m----> 1\u001b[0m mat[\u001b[38;5;241m10\u001b[39m]\n",
      "\u001b[1;31mNameError\u001b[0m: name 'mat' is not defined"
     ]
    }
   ],
   "source": [
    "mat[10]"
   ]
  },
  {
   "cell_type": "code",
   "execution_count": null,
   "id": "35b90475-5b94-4751-8892-1af85f075761",
   "metadata": {},
   "outputs": [],
   "source": [
    "mat[9]"
   ]
  },
  {
   "cell_type": "code",
   "execution_count": null,
   "id": "8e94917c-7203-4f8b-a6e3-bf5197398c81",
   "metadata": {},
   "outputs": [],
   "source": [
    "for i in 10:"
   ]
  },
  {
   "cell_type": "code",
   "execution_count": null,
   "id": "5006741b-6480-435e-a8d8-9c6d39da2bc9",
   "metadata": {},
   "outputs": [],
   "source": [
    "for i in range(10):\n",
    "    print(mat[i])"
   ]
  },
  {
   "cell_type": "code",
   "execution_count": null,
   "id": "eb6638b0-ec14-4984-a213-e656eaaf94fc",
   "metadata": {},
   "outputs": [],
   "source": [
    "for i in range(10):\n",
    "    print(i)\n",
    "    print(mat[i])"
   ]
  },
  {
   "cell_type": "code",
   "execution_count": null,
   "id": "e0d31aac-3ac7-435c-84a1-5a93729fdbb2",
   "metadata": {},
   "outputs": [],
   "source": [
    "#With Slices"
   ]
  },
  {
   "cell_type": "code",
   "execution_count": null,
   "id": "09e85525-ce89-4fe1-bb92-3cbf8e5cedd4",
   "metadata": {},
   "outputs": [],
   "source": [
    "mat[:,-6]"
   ]
  },
  {
   "cell_type": "code",
   "execution_count": null,
   "id": "a12b8032-9ae3-4620-9ebf-5b0d8e6c980b",
   "metadata": {},
   "outputs": [],
   "source": [
    "mat[:,6]"
   ]
  },
  {
   "cell_type": "code",
   "execution_count": null,
   "id": "6deabe6b-a65b-49ac-8a97-713f871b129f",
   "metadata": {},
   "outputs": [],
   "source": [
    "mat[:,0]"
   ]
  },
  {
   "cell_type": "code",
   "execution_count": 575,
   "id": "38c25107-091f-40c2-85d3-2952833a645f",
   "metadata": {},
   "outputs": [
    {
     "ename": "NameError",
     "evalue": "name 'mat' is not defined",
     "output_type": "error",
     "traceback": [
      "\u001b[1;31m---------------------------------------------------------------------------\u001b[0m",
      "\u001b[1;31mNameError\u001b[0m                                 Traceback (most recent call last)",
      "Cell \u001b[1;32mIn[575], line 1\u001b[0m\n\u001b[1;32m----> 1\u001b[0m mat[:,\u001b[38;5;241m-\u001b[39m\u001b[38;5;241m10\u001b[39m]\n",
      "\u001b[1;31mNameError\u001b[0m: name 'mat' is not defined"
     ]
    }
   ],
   "source": [
    "mat[:,-10]"
   ]
  },
  {
   "cell_type": "code",
   "execution_count": null,
   "id": "f9349ff8-6889-4777-bccc-1f35b2ed494f",
   "metadata": {},
   "outputs": [],
   "source": [
    "mat"
   ]
  },
  {
   "cell_type": "code",
   "execution_count": null,
   "id": "8190357f-fe05-4af6-8775-9f280cd70c48",
   "metadata": {},
   "outputs": [],
   "source": [
    "mat[:,1]"
   ]
  },
  {
   "cell_type": "code",
   "execution_count": null,
   "id": "5843ff62-aca4-41c6-b3c9-82d5f16b6c4b",
   "metadata": {},
   "outputs": [],
   "source": [
    "mat[:,-9]"
   ]
  },
  {
   "cell_type": "code",
   "execution_count": null,
   "id": "f61a2d31-0e5a-463a-8dd0-31d35ecc801b",
   "metadata": {},
   "outputs": [],
   "source": [
    "mat[:,2]"
   ]
  },
  {
   "cell_type": "code",
   "execution_count": null,
   "id": "40bef707-d4a7-4f3a-80a4-b1a94ae6c0b0",
   "metadata": {},
   "outputs": [],
   "source": [
    "mat[:,-8]"
   ]
  },
  {
   "cell_type": "code",
   "execution_count": null,
   "id": "f4006a26-db22-4af1-877b-2b84d010a3d2",
   "metadata": {},
   "outputs": [],
   "source": [
    "mat[:,3]"
   ]
  },
  {
   "cell_type": "code",
   "execution_count": null,
   "id": "da20365d-6eb0-4a87-b22c-8c19d755a204",
   "metadata": {},
   "outputs": [],
   "source": [
    "mat[:,-7]"
   ]
  },
  {
   "cell_type": "code",
   "execution_count": null,
   "id": "6f8da651-9540-444e-9237-51a7db43a217",
   "metadata": {},
   "outputs": [],
   "source": [
    "mat[:,4]"
   ]
  },
  {
   "cell_type": "code",
   "execution_count": null,
   "id": "3282d5dd-7344-4ea9-949c-4b57fe4ec16d",
   "metadata": {},
   "outputs": [],
   "source": [
    "mat[:-6]"
   ]
  },
  {
   "cell_type": "code",
   "execution_count": 576,
   "id": "522e963c-064d-4f48-a869-e96426f0a0bd",
   "metadata": {},
   "outputs": [
    {
     "ename": "NameError",
     "evalue": "name 'mat' is not defined",
     "output_type": "error",
     "traceback": [
      "\u001b[1;31m---------------------------------------------------------------------------\u001b[0m",
      "\u001b[1;31mNameError\u001b[0m                                 Traceback (most recent call last)",
      "Cell \u001b[1;32mIn[576], line 1\u001b[0m\n\u001b[1;32m----> 1\u001b[0m mat[:,\u001b[38;5;241m5\u001b[39m]\n",
      "\u001b[1;31mNameError\u001b[0m: name 'mat' is not defined"
     ]
    }
   ],
   "source": [
    "mat[:,5]"
   ]
  },
  {
   "cell_type": "code",
   "execution_count": null,
   "id": "a9bc5600-4be4-464d-88b0-0c32f54282f4",
   "metadata": {},
   "outputs": [],
   "source": [
    "mat[:,-5]"
   ]
  },
  {
   "cell_type": "code",
   "execution_count": null,
   "id": "e4fc2c1c-9df8-4f78-afe8-e86ac3d7d4b9",
   "metadata": {},
   "outputs": [],
   "source": [
    "mat[:,6]"
   ]
  },
  {
   "cell_type": "code",
   "execution_count": null,
   "id": "70c2e50b-00dd-45e0-af1f-876b820a294b",
   "metadata": {},
   "outputs": [],
   "source": [
    "mat[:,-4]"
   ]
  },
  {
   "cell_type": "code",
   "execution_count": null,
   "id": "20a8775b-d327-4ad5-bbb6-46cef53daaa7",
   "metadata": {},
   "outputs": [],
   "source": [
    "mat[:,7]"
   ]
  },
  {
   "cell_type": "code",
   "execution_count": null,
   "id": "e52ba5f9-f52f-49d6-84a3-af8a374c6545",
   "metadata": {},
   "outputs": [],
   "source": [
    "mat[:,-3]"
   ]
  },
  {
   "cell_type": "code",
   "execution_count": null,
   "id": "5a78c988-1693-41cd-9a43-58719fc92ed6",
   "metadata": {},
   "outputs": [],
   "source": [
    "mat:,-2]"
   ]
  },
  {
   "cell_type": "code",
   "execution_count": null,
   "id": "21ca3fe8-c16c-43bc-b262-97f56f421401",
   "metadata": {},
   "outputs": [],
   "source": [
    "mat[:,-2]"
   ]
  },
  {
   "cell_type": "code",
   "execution_count": null,
   "id": "3fa895dc-7960-420a-8a78-1c1a5d1a6024",
   "metadata": {},
   "outputs": [],
   "source": [
    "mat[:,8]"
   ]
  },
  {
   "cell_type": "code",
   "execution_count": null,
   "id": "977e7fd1-4fc4-4c86-b43c-c7e7213c9668",
   "metadata": {},
   "outputs": [],
   "source": [
    "mat[:,-1]"
   ]
  },
  {
   "cell_type": "code",
   "execution_count": 577,
   "id": "58517f5a-6a2d-45cb-b043-4f8b84b43201",
   "metadata": {},
   "outputs": [
    {
     "ename": "NameError",
     "evalue": "name 'mat' is not defined",
     "output_type": "error",
     "traceback": [
      "\u001b[1;31m---------------------------------------------------------------------------\u001b[0m",
      "\u001b[1;31mNameError\u001b[0m                                 Traceback (most recent call last)",
      "Cell \u001b[1;32mIn[577], line 1\u001b[0m\n\u001b[1;32m----> 1\u001b[0m mat[:,\u001b[38;5;241m9\u001b[39m]\n",
      "\u001b[1;31mNameError\u001b[0m: name 'mat' is not defined"
     ]
    }
   ],
   "source": [
    "mat[:,9]"
   ]
  },
  {
   "cell_type": "code",
   "execution_count": null,
   "id": "5ce88553-4cf2-4744-abbb-e0923750908b",
   "metadata": {},
   "outputs": [],
   "source": [
    "mat"
   ]
  },
  {
   "cell_type": "code",
   "execution_count": null,
   "id": "97ff774f-24c1-425f-aeb0-e5b144fd6b89",
   "metadata": {},
   "outputs": [],
   "source": [
    "mat[2:6,2:4]"
   ]
  },
  {
   "cell_type": "code",
   "execution_count": null,
   "id": "5318f3e3-050f-4c8c-95d8-5990b59cd30f",
   "metadata": {},
   "outputs": [],
   "source": [
    "# i want 46,47,56,57,66,67,76,77,86,87,96,97 values"
   ]
  },
  {
   "cell_type": "code",
   "execution_count": null,
   "id": "93773bec-bdef-40ee-88ec-870135963503",
   "metadata": {},
   "outputs": [],
   "source": [
    "mat[4:9,4:9]"
   ]
  },
  {
   "cell_type": "code",
   "execution_count": null,
   "id": "04e15dfb-2083-4fad-8da6-93cc5e5a7d3c",
   "metadata": {},
   "outputs": [],
   "source": [
    "mat[4:9,2:9]"
   ]
  },
  {
   "cell_type": "code",
   "execution_count": 578,
   "id": "d6f6eecb-7422-4f20-a6c2-f5773b8afefe",
   "metadata": {},
   "outputs": [
    {
     "ename": "NameError",
     "evalue": "name 'mat' is not defined",
     "output_type": "error",
     "traceback": [
      "\u001b[1;31m---------------------------------------------------------------------------\u001b[0m",
      "\u001b[1;31mNameError\u001b[0m                                 Traceback (most recent call last)",
      "Cell \u001b[1;32mIn[578], line 1\u001b[0m\n\u001b[1;32m----> 1\u001b[0m mat[\u001b[38;5;241m4\u001b[39m:\u001b[38;5;241m9\u001b[39m,\u001b[38;5;241m6\u001b[39m:\u001b[38;5;241m9\u001b[39m]\n",
      "\u001b[1;31mNameError\u001b[0m: name 'mat' is not defined"
     ]
    }
   ],
   "source": [
    "mat[4:9,6:9]"
   ]
  },
  {
   "cell_type": "code",
   "execution_count": null,
   "id": "07b43a4b-8307-4886-9797-b33569fee381",
   "metadata": {},
   "outputs": [],
   "source": [
    "mat[4:9,6:8]"
   ]
  },
  {
   "cell_type": "code",
   "execution_count": null,
   "id": "01d4867b-9611-407d-9bab-0e5db84782d4",
   "metadata": {},
   "outputs": [],
   "source": []
  },
  {
   "cell_type": "markdown",
   "id": "f7a55086-936a-4c92-b813-80f8e7d41589",
   "metadata": {},
   "source": [
    "# Assistant\n",
    "The error occurs because you are trying to access the length of a NumPy array using `.len`, which is not the correct way to do it. In Python, the correct way to get the length of an array (or any iterable) is to use the built-in `len()` function.\n",
    "\n",
    "To fix this error, you should replace `arr4.len` with `len(arr4)`.\n",
    "\n",
    "Would you like me to provide the corrected code?"
   ]
  },
  {
   "cell_type": "markdown",
   "id": "cbf0f2a7-0121-4167-840c-148610a88391",
   "metadata": {},
   "source": [
    "# User\n",
    "range function examples"
   ]
  },
  {
   "cell_type": "markdown",
   "id": "25887fc5-3302-4800-9b01-2fcf12ce8f41",
   "metadata": {},
   "source": [
    "# Assistant\n",
    "Here are some examples of how to use the `range()` function in Python:\n",
    "\n",
    "1. **Basic Usage**: Generate a sequence of numbers from 0 to 4.\n",
    "   "
   ]
  },
  {
   "cell_type": "code",
   "execution_count": null,
   "id": "ebb6c453-c056-4ded-9bbd-98ae80ac8c27",
   "metadata": {},
   "outputs": [],
   "source": [
    "   for i in range(5):\n",
    "       print(i)\n",
    "   # Output: 0, 1, 2, 3, 4\n",
    "   "
   ]
  },
  {
   "cell_type": "markdown",
   "id": "63c0f862-e90e-4cee-ba6e-ada1eb51dbbf",
   "metadata": {},
   "source": [
    "\n",
    "2. **Specifying Start and Stop**: Generate numbers from 2 to 6.\n",
    "   "
   ]
  },
  {
   "cell_type": "code",
   "execution_count": null,
   "id": "23651737-39ad-4dc3-962c-321382186afd",
   "metadata": {},
   "outputs": [],
   "source": [
    "   for i in range(2, 7):\n",
    "       print(i)\n",
    "   # Output: 2, 3, 4, 5, 6\n",
    "   "
   ]
  },
  {
   "cell_type": "markdown",
   "id": "05afde78-56bb-428e-af78-28602f07965a",
   "metadata": {},
   "source": [
    "\n",
    "3. **Specifying Step**: Generate numbers from 0 to 10 with a step of 2.\n",
    "   "
   ]
  },
  {
   "cell_type": "code",
   "execution_count": null,
   "id": "8d22be65-0259-4543-b7d0-b3c4c85d2c62",
   "metadata": {},
   "outputs": [],
   "source": [
    "   for i in range(0, 11, 2):\n",
    "       print(i)\n",
    "   # Output: 0, 2, 4, 6, 8, 10\n",
    "   "
   ]
  },
  {
   "cell_type": "markdown",
   "id": "cc627295-b11a-43a5-8664-24f18c7da980",
   "metadata": {},
   "source": [
    "\n",
    "4. **Using Negative Step**: Generate numbers from 5 to 1 in reverse order.\n",
    "   "
   ]
  },
  {
   "cell_type": "code",
   "execution_count": 579,
   "id": "1e33627a-7216-4a15-b205-2b1749fbada3",
   "metadata": {},
   "outputs": [
    {
     "name": "stdout",
     "output_type": "stream",
     "text": [
      "5\n",
      "4\n",
      "3\n",
      "2\n",
      "1\n"
     ]
    }
   ],
   "source": [
    "   for i in range(5, 0, -1):\n",
    "       print(i)\n",
    "   # Output: 5, 4, 3, 2, 1\n",
    "   "
   ]
  },
  {
   "cell_type": "markdown",
   "id": "521285a0-8ddb-4fd6-806d-f527554d186a",
   "metadata": {},
   "source": [
    "\n",
    "5. **Creating a List from Range**: Create a list of numbers from 0 to 9.\n",
    "   "
   ]
  },
  {
   "cell_type": "code",
   "execution_count": 581,
   "id": "5c27a84a-fea8-46ce-a457-10b621aac7fa",
   "metadata": {},
   "outputs": [
    {
     "name": "stdout",
     "output_type": "stream",
     "text": [
      "[0, 1, 2, 3, 4, 5, 6, 7, 8, 9]\n"
     ]
    }
   ],
   "source": [
    "   numbers = list(range(10))\n",
    "   print(numbers)\n",
    "   # Output: [0, 1, 2, 3, 4, 5, 6, 7, 8, 9]\n",
    "   "
   ]
  },
  {
   "cell_type": "markdown",
   "id": "8edb2f71-93ba-4bdb-9692-0d7dc2522631",
   "metadata": {},
   "source": [
    "\n",
    "6. **Using Range in List Comprehensions**: Create a list of squares of numbers from 0 to 4.\n",
    "   "
   ]
  },
  {
   "cell_type": "code",
   "execution_count": 583,
   "id": "3af274e5-8019-4d1b-b28d-0b635df89821",
   "metadata": {},
   "outputs": [
    {
     "name": "stdout",
     "output_type": "stream",
     "text": [
      "[0, 1, 4, 9, 16]\n"
     ]
    }
   ],
   "source": [
    "   squares = [i**2 for i in range(5)]\n",
    "   print(squares)\n",
    "   # Output: [0, 1, 4, 9, 16]\n",
    "   "
   ]
  },
  {
   "cell_type": "markdown",
   "id": "fb3790a3-cb4e-4015-8738-f8ff8268a209",
   "metadata": {},
   "source": [
    "\n",
    "These examples demonstrate the versatility of the `range()` function in generating sequences of numbers for loops, list comprehensions, and more. If you have any specific use cases or questions about `range()`, feel free to ask!"
   ]
  },
  {
   "cell_type": "markdown",
   "id": "1650e7e4-4a68-4c5d-8c28-7c419e2aa111",
   "metadata": {},
   "source": [
    "# User\n",
    "examples of numpy random rand"
   ]
  },
  {
   "cell_type": "markdown",
   "id": "837885ed-fee0-4d9a-b301-7f05dff37ef0",
   "metadata": {},
   "source": [
    "# Assistant\n",
    "The `numpy.random.rand()` function is used to generate random numbers from a uniform distribution over the interval [0.0, 1.0). Here are some examples of how to use `numpy.random.rand()`:\n",
    "\n",
    "1. **Generate a Single Random Number**:\n",
    "   "
   ]
  },
  {
   "cell_type": "code",
   "execution_count": 587,
   "id": "f9a71599-4d92-4b6c-831c-9a6040b64b06",
   "metadata": {},
   "outputs": [
    {
     "name": "stdout",
     "output_type": "stream",
     "text": [
      "0.8302511608760412\n"
     ]
    }
   ],
   "source": [
    "   import numpy as np\n",
    "\n",
    "   random_number = np.random.rand()\n",
    "   print(random_number)\n",
    "   # Output: A single random number between 0 and 1\n",
    "   "
   ]
  },
  {
   "cell_type": "markdown",
   "id": "d04f4dbb-0a33-4d77-ba69-7cc5e8f2b2e2",
   "metadata": {},
   "source": [
    "\n",
    "2. **Generate a 1D Array of Random Numbers**:\n",
    "   "
   ]
  },
  {
   "cell_type": "code",
   "execution_count": 589,
   "id": "674f53ba-d811-4287-8211-cd8059a46823",
   "metadata": {},
   "outputs": [
    {
     "name": "stdout",
     "output_type": "stream",
     "text": [
      "[0.00512527 0.67695235 0.50324265 0.71013207 0.88566021]\n"
     ]
    }
   ],
   "source": [
    "   random_array_1d = np.random.rand(5)  # 5 random numbers\n",
    "   print(random_array_1d)\n",
    "   # Output: An array of 5 random numbers between 0 and 1\n",
    "   "
   ]
  },
  {
   "cell_type": "markdown",
   "id": "7fb6a85f-714d-4896-9dee-dff2c530492b",
   "metadata": {},
   "source": [
    "\n",
    "3. **Generate a 2D Array of Random Numbers**:\n",
    "   "
   ]
  },
  {
   "cell_type": "code",
   "execution_count": 591,
   "id": "1ee5ad79-0c6d-4a6f-a2c3-65dc022698a3",
   "metadata": {},
   "outputs": [
    {
     "name": "stdout",
     "output_type": "stream",
     "text": [
      "[[0.09940133 0.88968673 0.1329207  0.09960587]\n",
      " [0.95007808 0.47328584 0.49130288 0.11718942]\n",
      " [0.68705016 0.96388298 0.88214933 0.61116683]]\n"
     ]
    }
   ],
   "source": [
    "   random_array_2d = np.random.rand(3, 4)  # 3 rows and 4 columns\n",
    "   print(random_array_2d)\n",
    "   # Output: A 3x4 array of random numbers between 0 and 1\n",
    "   "
   ]
  },
  {
   "cell_type": "markdown",
   "id": "0b0001d1-9873-42a7-8259-50e9ca5189c6",
   "metadata": {},
   "source": [
    "\n",
    "4. **Generate a 3D Array of Random Numbers**:\n",
    "   "
   ]
  },
  {
   "cell_type": "code",
   "execution_count": 593,
   "id": "bc4d30ff-bcdd-401a-bf18-c550b0e452c0",
   "metadata": {},
   "outputs": [
    {
     "name": "stdout",
     "output_type": "stream",
     "text": [
      "[[[0.059676   0.21557007 0.66009602 0.6946018 ]\n",
      "  [0.40771133 0.47533308 0.57761021 0.09049045]\n",
      "  [0.8895886  0.5018684  0.20307527 0.56362788]]\n",
      "\n",
      " [[0.74074654 0.71563914 0.89091956 0.60449007]\n",
      "  [0.90373185 0.34198961 0.38092999 0.0177541 ]\n",
      "  [0.82109849 0.10483574 0.13848907 0.7327785 ]]]\n"
     ]
    }
   ],
   "source": [
    "   random_array_3d = np.random.rand(2, 3, 4)  # 2x3x4 array\n",
    "   print(random_array_3d)\n",
    "   # Output: A 3D array with shape (2, 3, 4) filled with random numbers\n",
    "   "
   ]
  },
  {
   "cell_type": "markdown",
   "id": "3d4cb79e-4a8d-48eb-8550-7e74fbe7beff",
   "metadata": {},
   "source": [
    "\n",
    "5. **Generate Random Numbers with Different Shapes**:\n",
    "   "
   ]
  },
  {
   "cell_type": "code",
   "execution_count": 595,
   "id": "be85e7cf-9021-4840-8d21-f709d12bccd1",
   "metadata": {},
   "outputs": [
    {
     "name": "stdout",
     "output_type": "stream",
     "text": [
      "[[[0.47360193 0.77040859]\n",
      "  [0.66771641 0.56555829]]\n",
      "\n",
      " [[0.17250756 0.04359532]\n",
      "  [0.01750339 0.74851452]]]\n"
     ]
    }
   ],
   "source": [
    "   random_array_shape = np.random.rand(2, 2, 2)  # 2x2x2 array\n",
    "   print(random_array_shape)\n",
    "   # Output: A 2x2x2 array of random numbers\n",
    "   "
   ]
  },
  {
   "cell_type": "markdown",
   "id": "c6b233e6-be55-492a-9656-93530b8d807c",
   "metadata": {},
   "source": [
    "\n",
    "6. **Using Random Numbers in Calculations**:\n",
    "   "
   ]
  },
  {
   "cell_type": "code",
   "execution_count": 597,
   "id": "88a46af5-c4bc-4a80-ac08-7e63622fda78",
   "metadata": {},
   "outputs": [
    {
     "name": "stdout",
     "output_type": "stream",
     "text": [
      "Random Numbers: [0.97913249 0.88677323 0.05318252 0.39778386 0.60784075]\n",
      "Squared Numbers: [0.95870043 0.78636676 0.00282838 0.158232   0.36947037]\n"
     ]
    }
   ],
   "source": [
    "   random_numbers = np.random.rand(5)\n",
    "   squared_numbers = random_numbers ** 2\n",
    "   print(\"Random Numbers:\", random_numbers)\n",
    "   print(\"Squared Numbers:\", squared_numbers)\n",
    "   # Output: Displays the random numbers and their squares\n",
    "   "
   ]
  },
  {
   "cell_type": "markdown",
   "id": "4d4073b0-eddf-46c5-98ef-b49dcd12973a",
   "metadata": {},
   "source": [
    "\n",
    "These examples illustrate how to generate random numbers using `numpy.random.rand()` in various shapes and dimensions. If you have any specific scenarios or further questions about using this function, feel free to ask!"
   ]
  },
  {
   "cell_type": "markdown",
   "id": "5744be53-3c15-4560-b8dc-938f8274dfe9",
   "metadata": {},
   "source": [
    "# User\n",
    "slicing examples"
   ]
  },
  {
   "cell_type": "markdown",
   "id": "ac7d05ef-d8c5-411d-b86b-5a1bdb789e68",
   "metadata": {},
   "source": [
    "# Assistant\n",
    "Slicing is a powerful feature in Python that allows you to access a subset of elements from sequences like lists, tuples, and NumPy arrays. Here are some examples of slicing in different contexts:\n",
    "\n",
    "### 1. **Slicing a List**"
   ]
  },
  {
   "cell_type": "code",
   "execution_count": 601,
   "id": "c5e73e29-3b59-4d91-acf9-a7c0646c9384",
   "metadata": {},
   "outputs": [
    {
     "name": "stdout",
     "output_type": "stream",
     "text": [
      "[2, 3, 4]\n"
     ]
    }
   ],
   "source": [
    "# Create a list\n",
    "my_list = [0, 1, 2, 3, 4, 5, 6, 7, 8, 9]\n",
    "\n",
    "# Get elements from index 2 to 5 (exclusive)\n",
    "sliced_list = my_list[2:5]\n",
    "print(sliced_list)  # Output: [2, 3, 4]"
   ]
  },
  {
   "cell_type": "markdown",
   "id": "fca0937f-700a-4833-8b49-0ab4ad42e53e",
   "metadata": {},
   "source": [
    "\n",
    "### 2. **Slicing with Step**"
   ]
  },
  {
   "cell_type": "code",
   "execution_count": 603,
   "id": "c8d1c2a0-7552-4d7e-bcf9-753f717ae358",
   "metadata": {},
   "outputs": [
    {
     "name": "stdout",
     "output_type": "stream",
     "text": [
      "[0, 2, 4, 6, 8]\n"
     ]
    }
   ],
   "source": [
    "# Get every second element from the list\n",
    "sliced_list_step = my_list[::2]\n",
    "print(sliced_list_step)  # Output: [0, 2, 4, 6, 8]"
   ]
  },
  {
   "cell_type": "markdown",
   "id": "fd0492a9-b8b9-4ad8-89dd-5fcb0c5ada19",
   "metadata": {},
   "source": [
    "\n",
    "### 3. **Negative Indices**"
   ]
  },
  {
   "cell_type": "code",
   "execution_count": 605,
   "id": "0f98f751-3b28-47af-a855-56b3a45fbbea",
   "metadata": {},
   "outputs": [
    {
     "name": "stdout",
     "output_type": "stream",
     "text": [
      "[7, 8, 9]\n"
     ]
    }
   ],
   "source": [
    "# Get the last three elements of the list\n",
    "sliced_list_negative = my_list[-3:]\n",
    "print(sliced_list_negative)  # Output: [7, 8, 9]"
   ]
  },
  {
   "cell_type": "markdown",
   "id": "4c32dce8-bfc1-432e-85e2-b0a7930e6cf9",
   "metadata": {},
   "source": [
    "\n",
    "### 4. **Slicing a Tuple**"
   ]
  },
  {
   "cell_type": "code",
   "execution_count": 607,
   "id": "a94a5317-6406-42dc-9525-5e70b2423c19",
   "metadata": {},
   "outputs": [
    {
     "name": "stdout",
     "output_type": "stream",
     "text": [
      "(20, 30)\n"
     ]
    }
   ],
   "source": [
    "# Create a tuple\n",
    "my_tuple = (10, 20, 30, 40, 50)\n",
    "\n",
    "# Get elements from index 1 to 3 (exclusive)\n",
    "sliced_tuple = my_tuple[1:3]\n",
    "print(sliced_tuple)  # Output: (20, 30)"
   ]
  },
  {
   "cell_type": "markdown",
   "id": "aa5ed42f-db29-4ff5-9f5c-853ecc68cc7a",
   "metadata": {},
   "source": [
    "\n",
    "### 5. **Slicing a String**"
   ]
  },
  {
   "cell_type": "code",
   "execution_count": 609,
   "id": "77b27122-a374-48ba-bc97-53289ff916df",
   "metadata": {},
   "outputs": [
    {
     "name": "stdout",
     "output_type": "stream",
     "text": [
      "World!\n"
     ]
    }
   ],
   "source": [
    "# Create a string\n",
    "my_string = \"Hello, World!\"\n",
    "\n",
    "# Get characters from index 7 to the end\n",
    "sliced_string = my_string[7:]\n",
    "print(sliced_string)  # Output: \"World!\""
   ]
  },
  {
   "cell_type": "markdown",
   "id": "00ebb485-499f-48fe-8965-590850d1e922",
   "metadata": {},
   "source": [
    "\n",
    "### 6. **Slicing a NumPy Array**"
   ]
  },
  {
   "cell_type": "code",
   "execution_count": 611,
   "id": "e11b1c47-3e60-4f41-9d56-d38d425c95e4",
   "metadata": {},
   "outputs": [
    {
     "name": "stdout",
     "output_type": "stream",
     "text": [
      "[40 50 60]\n"
     ]
    }
   ],
   "source": [
    "import numpy as np\n",
    "\n",
    "# Create a NumPy array\n",
    "arr = np.array([10, 20, 30, 40, 50, 60, 70, 80, 90])\n",
    "\n",
    "# Get elements from index 3 to 6 (exclusive)\n",
    "sliced_array = arr[3:6]\n",
    "print(sliced_array)  # Output: [40 50 60]"
   ]
  },
  {
   "cell_type": "markdown",
   "id": "b8960aff-07fe-435f-a25f-9e3a67b35ac2",
   "metadata": {},
   "source": [
    "\n",
    "### 7. **2D NumPy Array Slicing**"
   ]
  },
  {
   "cell_type": "code",
   "execution_count": 613,
   "id": "6c3bd7e0-37c2-48fa-98cb-09bd1a7a42a4",
   "metadata": {},
   "outputs": [
    {
     "name": "stdout",
     "output_type": "stream",
     "text": [
      "[[1 2]\n",
      " [4 5]]\n"
     ]
    }
   ],
   "source": [
    "# Create a 2D NumPy array\n",
    "arr_2d = np.array([[1, 2, 3], [4, 5, 6], [7, 8, 9]])\n",
    "\n",
    "# Get the first two rows and the first two columns\n",
    "sliced_2d_array = arr_2d[:2, :2]\n",
    "print(sliced_2d_array)\n",
    "# Output:\n",
    "# [[1 2]\n",
    "#  [4 5]]"
   ]
  },
  {
   "cell_type": "markdown",
   "id": "545364fb-3d6d-4215-8154-63575dea0643",
   "metadata": {},
   "source": [
    "\n",
    "### 8. **Slicing with Step in NumPy**"
   ]
  },
  {
   "cell_type": "code",
   "execution_count": 615,
   "id": "9d514670-4c1a-437e-b24d-9f9cc813b8c8",
   "metadata": {},
   "outputs": [
    {
     "name": "stdout",
     "output_type": "stream",
     "text": [
      "[[1 2 3]\n",
      " [7 8 9]]\n"
     ]
    }
   ],
   "source": [
    "# Get every second row from a 2D array\n",
    "sliced_2d_step = arr_2d[::2, :]\n",
    "print(sliced_2d_step)\n",
    "# Output:\n",
    "# [[1 2 3]\n",
    "#  [7 8 9]]"
   ]
  },
  {
   "cell_type": "markdown",
   "id": "86bff5b1-c60b-4d5e-8784-ebaf4bd5056c",
   "metadata": {},
   "source": [
    "\n",
    "These examples demonstrate how to use slicing in various data structures in Python. If you have any specific questions or need further examples, feel free to ask!"
   ]
  },
  {
   "cell_type": "markdown",
   "id": "630018b0-c72b-4935-a340-989c59756f8f",
   "metadata": {},
   "source": [
    "# User\n",
    "masking examples"
   ]
  },
  {
   "cell_type": "markdown",
   "id": "293a315b-4233-4991-8062-1437b12b9744",
   "metadata": {},
   "source": [
    "# Assistant\n",
    "Masking is a powerful feature in NumPy that allows you to filter elements of an array based on certain conditions. Here are some examples of how to use masking in NumPy:\n",
    "\n",
    "### 1. **Basic Masking with a Condition**"
   ]
  },
  {
   "cell_type": "code",
   "execution_count": 619,
   "id": "03986509-fc23-4977-a814-fefe1167a45f",
   "metadata": {},
   "outputs": [
    {
     "name": "stdout",
     "output_type": "stream",
     "text": [
      "Mask: [False False  True  True  True]\n",
      "Filtered Array: [30 40 50]\n"
     ]
    }
   ],
   "source": [
    "import numpy as np\n",
    "\n",
    "# Create a NumPy array\n",
    "arr = np.array([10, 20, 30, 40, 50])\n",
    "\n",
    "# Create a mask for elements greater than 25\n",
    "mask = arr > 25\n",
    "print(\"Mask:\", mask)  # Output: [False False  True  True  True]\n",
    "\n",
    "# Use the mask to filter the array\n",
    "filtered_arr = arr[mask]\n",
    "print(\"Filtered Array:\", filtered_arr)  # Output: [30 40 50]"
   ]
  },
  {
   "cell_type": "markdown",
   "id": "47702d1a-8c02-4657-b778-2a81913b93ca",
   "metadata": {},
   "source": [
    "\n",
    "### 2. **Masking with Multiple Conditions**"
   ]
  },
  {
   "cell_type": "code",
   "execution_count": 621,
   "id": "ee5eeed0-476f-494b-b158-a291cb5d3fc0",
   "metadata": {},
   "outputs": [
    {
     "name": "stdout",
     "output_type": "stream",
     "text": [
      "Mask with Multiple Conditions: [False  True  True  True  True False]\n",
      "Filtered Array with Multiple Conditions: [15 25 35 45]\n"
     ]
    }
   ],
   "source": [
    "# Create a new array\n",
    "arr2 = np.array([5, 15, 25, 35, 45, 55])\n",
    "\n",
    "# Create a mask for elements between 10 and 50\n",
    "mask_multiple = (arr2 > 10) & (arr2 < 50)\n",
    "print(\"Mask with Multiple Conditions:\", mask_multiple)  # Output: [False  True  True  True False False]\n",
    "\n",
    "# Filter the array using the mask\n",
    "filtered_arr_multiple = arr2[mask_multiple]\n",
    "print(\"Filtered Array with Multiple Conditions:\", filtered_arr_multiple)  # Output: [15 25 35]"
   ]
  },
  {
   "cell_type": "markdown",
   "id": "2676160e-745c-45b1-ab15-9d35e923d4fe",
   "metadata": {},
   "source": [
    "\n",
    "### 3. **Using Boolean Arrays for Masking**"
   ]
  },
  {
   "cell_type": "code",
   "execution_count": 623,
   "id": "0416639b-5e81-47d9-b410-fa9825854550",
   "metadata": {},
   "outputs": [
    {
     "name": "stdout",
     "output_type": "stream",
     "text": [
      "Filtered Array using Boolean Mask: [100 300 500]\n"
     ]
    }
   ],
   "source": [
    "# Create a boolean array\n",
    "bool_mask = np.array([True, False, True, False, True])\n",
    "\n",
    "# Create an array\n",
    "arr3 = np.array([100, 200, 300, 400, 500])\n",
    "\n",
    "# Use the boolean array to filter the original array\n",
    "filtered_arr_bool = arr3[bool_mask]\n",
    "print(\"Filtered Array using Boolean Mask:\", filtered_arr_bool)  # Output: [100 300 500]"
   ]
  },
  {
   "cell_type": "markdown",
   "id": "7a175ecc-c73d-41b9-9aab-93f5a6087e26",
   "metadata": {},
   "source": [
    "\n",
    "### 4. **Masking with NaN Values**"
   ]
  },
  {
   "cell_type": "code",
   "execution_count": 625,
   "id": "5735ee88-333c-4b1c-aab2-037116ae0704",
   "metadata": {},
   "outputs": [
    {
     "name": "stdout",
     "output_type": "stream",
     "text": [
      "Mask for NaN Values: [ True  True False  True  True]\n",
      "Filtered Array without NaN Values: [1. 2. 4. 5.]\n"
     ]
    }
   ],
   "source": [
    "# Create an array with NaN values\n",
    "arr4 = np.array([1, 2, np.nan, 4, 5])\n",
    "\n",
    "# Create a mask to filter out NaN values\n",
    "mask_nan = ~np.isnan(arr4)\n",
    "print(\"Mask for NaN Values:\", mask_nan)  # Output: [ True  True False  True  True]\n",
    "\n",
    "# Filter the array to exclude NaN values\n",
    "filtered_arr_nan = arr4[mask_nan]\n",
    "print(\"Filtered Array without NaN Values:\", filtered_arr_nan)  # Output: [1. 2. 4. 5.]"
   ]
  },
  {
   "cell_type": "markdown",
   "id": "a878cb0f-81b7-42aa-9b90-823dabada5d6",
   "metadata": {},
   "source": [
    "\n",
    "### 5. **Masking in 2D Arrays**"
   ]
  },
  {
   "cell_type": "code",
   "execution_count": 627,
   "id": "bf161f4c-ae11-43d8-9688-d6978551afa6",
   "metadata": {},
   "outputs": [
    {
     "name": "stdout",
     "output_type": "stream",
     "text": [
      "2D Mask: [[False False False]\n",
      " [False False  True]\n",
      " [ True  True  True]]\n",
      "Filtered 2D Array: [6 7 8 9]\n"
     ]
    }
   ],
   "source": [
    "# Create a 2D array\n",
    "arr_2d = np.array([[1, 2, 3], [4, 5, 6], [7, 8, 9]])\n",
    "\n",
    "# Create a mask for elements greater than 5\n",
    "mask_2d = arr_2d > 5\n",
    "print(\"2D Mask:\", mask_2d)\n",
    "# Output:\n",
    "# [[False False False]\n",
    "#  [False False  True]\n",
    "#  [ True  True  True]]\n",
    "\n",
    "# Filter the 2D array using the mask\n",
    "filtered_arr_2d = arr_2d[mask_2d]\n",
    "print(\"Filtered 2D Array:\", filtered_arr_2d)  # Output: [6 7 8 9]"
   ]
  },
  {
   "cell_type": "markdown",
   "id": "bc21f93b-a5ba-4fe5-bf9f-828d77ee1f4e",
   "metadata": {},
   "source": [
    "\n",
    "### 6. **Combining Masking with Other Operations**"
   ]
  },
  {
   "cell_type": "code",
   "execution_count": 629,
   "id": "450870c7-0ce8-4e31-9491-4f1a32a18a9f",
   "metadata": {},
   "outputs": [
    {
     "name": "stdout",
     "output_type": "stream",
     "text": [
      "Squared Even Numbers: [ 4 16]\n"
     ]
    }
   ],
   "source": [
    "# Create an array\n",
    "arr5 = np.array([1, 2, 3, 4, 5])\n",
    "\n",
    "# Create a mask for even numbers\n",
    "even_mask = arr5 % 2 == 0\n",
    "\n",
    "# Square the even numbers\n",
    "squared_evens = arr5[even_mask] ** 2\n",
    "print(\"Squared Even Numbers:\", squared_evens)  # Output: [ 4 16]"
   ]
  },
  {
   "cell_type": "markdown",
   "id": "7f9697a0-f981-4b79-925f-60a929a3cfb3",
   "metadata": {},
   "source": [
    "\n",
    "These examples illustrate how to use masking in NumPy to filter and manipulate arrays based on specific conditions. If you have any specific scenarios or further questions about masking, feel free to ask!"
   ]
  },
  {
   "cell_type": "markdown",
   "id": "62891e70-b6f3-4001-94e2-f01002df7705",
   "metadata": {},
   "source": [
    "#Creating array 15th"
   ]
  },
  {
   "cell_type": "code",
   "execution_count": 632,
   "id": "4670b303-4fc5-4c09-833d-b92a216f4f23",
   "metadata": {},
   "outputs": [],
   "source": [
    "arr_15=np.array([10,20,30,40,50])"
   ]
  },
  {
   "cell_type": "code",
   "execution_count": 633,
   "id": "04883efb-e181-4bde-bb9e-ddd277b081b1",
   "metadata": {},
   "outputs": [
    {
     "data": {
      "text/plain": [
       "array([10, 20, 30, 40, 50])"
      ]
     },
     "execution_count": 633,
     "metadata": {},
     "output_type": "execute_result"
    }
   ],
   "source": [
    "arr_15"
   ]
  },
  {
   "cell_type": "code",
   "execution_count": 634,
   "id": "1af6ff8e-e799-49d7-9bc3-00b62721a286",
   "metadata": {},
   "outputs": [],
   "source": [
    "mask=arr>25"
   ]
  },
  {
   "cell_type": "code",
   "execution_count": 635,
   "id": "8381590e-4089-4e08-a275-7a4d7ae21894",
   "metadata": {},
   "outputs": [
    {
     "data": {
      "text/plain": [
       "array([False, False,  True,  True,  True])"
      ]
     },
     "execution_count": 635,
     "metadata": {},
     "output_type": "execute_result"
    }
   ],
   "source": [
    "mask"
   ]
  },
  {
   "cell_type": "code",
   "execution_count": 636,
   "id": "d818b24d-1336-43d3-bda6-c3e2f9bd2e25",
   "metadata": {},
   "outputs": [
    {
     "ename": "NameError",
     "evalue": "name 'mat' is not defined",
     "output_type": "error",
     "traceback": [
      "\u001b[1;31m---------------------------------------------------------------------------\u001b[0m",
      "\u001b[1;31mNameError\u001b[0m                                 Traceback (most recent call last)",
      "Cell \u001b[1;32mIn[636], line 1\u001b[0m\n\u001b[1;32m----> 1\u001b[0m mat\n",
      "\u001b[1;31mNameError\u001b[0m: name 'mat' is not defined"
     ]
    }
   ],
   "source": [
    "mat"
   ]
  },
  {
   "cell_type": "code",
   "execution_count": null,
   "id": "4574a483-f751-4ff0-9b0f-927b76bd6edd",
   "metadata": {},
   "outputs": [],
   "source": [
    "mask=mat>50"
   ]
  },
  {
   "cell_type": "code",
   "execution_count": null,
   "id": "2dbea716-cdfd-49dc-afd4-9131df35a110",
   "metadata": {},
   "outputs": [],
   "source": [
    "mask"
   ]
  },
  {
   "cell_type": "code",
   "execution_count": null,
   "id": "3b74d1e3-fb3a-4b22-9bf2-e7bdf9f1b4d4",
   "metadata": {},
   "outputs": [],
   "source": [
    "mask=mat<50"
   ]
  },
  {
   "cell_type": "code",
   "execution_count": null,
   "id": "9a21014f-99d4-40be-bc78-27414fc8c488",
   "metadata": {},
   "outputs": [],
   "source": [
    "mask"
   ]
  },
  {
   "cell_type": "code",
   "execution_count": null,
   "id": "0c43abd3-6572-4fa9-afc5-bb8132504c9f",
   "metadata": {},
   "outputs": [],
   "source": [
    "mask=(mat==50)"
   ]
  },
  {
   "cell_type": "code",
   "execution_count": null,
   "id": "303d220a-ae18-4c34-830d-a549cbac6477",
   "metadata": {},
   "outputs": [],
   "source": [
    "mask"
   ]
  },
  {
   "cell_type": "markdown",
   "id": "c1ea7537-34ba-4bdf-be12-26a0bfb0525b",
   "metadata": {},
   "source": []
  },
  {
   "cell_type": "code",
   "execution_count": null,
   "id": "98726482-e5ae-43ff-9fd8-7fa198fa1260",
   "metadata": {},
   "outputs": [],
   "source": [
    "arr_15"
   ]
  },
  {
   "cell_type": "code",
   "execution_count": null,
   "id": "a35d97cb-5ff9-47d6-968b-9dcf058d2148",
   "metadata": {},
   "outputs": [],
   "source": [
    "mask= arr_15>10 & arr_15<50"
   ]
  },
  {
   "cell_type": "code",
   "execution_count": null,
   "id": "202862cb-4b46-46c0-bdcb-91994d5f2b83",
   "metadata": {},
   "outputs": [],
   "source": [
    "mask= arr_15  > 10 & arr_15 < 50"
   ]
  },
  {
   "cell_type": "code",
   "execution_count": null,
   "id": "ac2a01c4-6c23-4c90-a80c-20421c8238fc",
   "metadata": {},
   "outputs": [],
   "source": [
    "mask=(arr_15>10) & (arr_15<50)"
   ]
  },
  {
   "cell_type": "code",
   "execution_count": null,
   "id": "9bdfee36-d9cf-455b-ad7f-c0d1f1e6ac8e",
   "metadata": {},
   "outputs": [],
   "source": [
    "print('Multiple Conditions'mask)"
   ]
  },
  {
   "cell_type": "code",
   "execution_count": null,
   "id": "2d47f12e-56ea-4481-8d33-a6d0cc3f13fb",
   "metadata": {},
   "outputs": [],
   "source": [
    "print('Multiple Conditions ',mask)"
   ]
  },
  {
   "cell_type": "code",
   "execution_count": null,
   "id": "2d124e5a-4033-4aeb-b073-79e90c5e88e9",
   "metadata": {},
   "outputs": [],
   "source": [
    "arr_15"
   ]
  },
  {
   "cell_type": "code",
   "execution_count": null,
   "id": "2df7c79d-ef51-463c-b6da-3c1a2daf1747",
   "metadata": {},
   "outputs": [],
   "source": [
    "mat"
   ]
  },
  {
   "cell_type": "code",
   "execution_count": null,
   "id": "13010495-a161-4c9c-a0b5-01e36805eed0",
   "metadata": {},
   "outputs": [],
   "source": [
    "#From 0 to 99 ,check numbers which are divisble by 2,4"
   ]
  },
  {
   "cell_type": "code",
   "execution_count": null,
   "id": "ea0f76a9-dd6a-4756-ae89-2fd2414274df",
   "metadata": {},
   "outputs": [],
   "source": [
    "mask=(mat/2) or (mat/4)"
   ]
  },
  {
   "cell_type": "code",
   "execution_count": null,
   "id": "23afa90d-3da6-49fb-90fa-258a598de89b",
   "metadata": {},
   "outputs": [],
   "source": [
    "mask=mat/2 or mat/4"
   ]
  },
  {
   "cell_type": "code",
   "execution_count": null,
   "id": "245175fa-2aba-496a-8d2c-a1130104e709",
   "metadata": {},
   "outputs": [],
   "source": [
    "mask=mat/2"
   ]
  },
  {
   "cell_type": "code",
   "execution_count": null,
   "id": "430f73cd-253f-42be-b774-35e67a9ea691",
   "metadata": {},
   "outputs": [],
   "source": [
    "mask"
   ]
  },
  {
   "cell_type": "code",
   "execution_count": null,
   "id": "08fa5232-4a48-455e-9b9c-487c2e2f055f",
   "metadata": {},
   "outputs": [],
   "source": [
    "mat"
   ]
  },
  {
   "cell_type": "code",
   "execution_count": null,
   "id": "c9deee19-a0a3-4609-83ed-e85fc2d4e11b",
   "metadata": {},
   "outputs": [],
   "source": [
    "mask= mat%2 or mat%4"
   ]
  },
  {
   "cell_type": "code",
   "execution_count": null,
   "id": "4db580b8-7897-4de2-811f-9f3a84e343b3",
   "metadata": {},
   "outputs": [],
   "source": [
    "mask=(mat%2) "
   ]
  },
  {
   "cell_type": "code",
   "execution_count": null,
   "id": "a4998e14-d5ad-42a1-89b1-510f5ea2ea89",
   "metadata": {},
   "outputs": [],
   "source": [
    "mat"
   ]
  },
  {
   "cell_type": "code",
   "execution_count": null,
   "id": "bd3c9771-4b57-45b4-b103-31200c9f6c94",
   "metadata": {},
   "outputs": [],
   "source": [
    "mask"
   ]
  },
  {
   "cell_type": "code",
   "execution_count": null,
   "id": "f6d1b30d-1e08-4a14-a8a8-1e237fe7ad13",
   "metadata": {},
   "outputs": [],
   "source": [
    "mask=(mask>29) & (mask<50)"
   ]
  },
  {
   "cell_type": "code",
   "execution_count": null,
   "id": "cd1243e3-1674-4ad0-9a9f-d4d2cd7dd0f7",
   "metadata": {},
   "outputs": [],
   "source": [
    "mask=(mat>29) & (mat<50)"
   ]
  },
  {
   "cell_type": "code",
   "execution_count": null,
   "id": "12eaf250-34d3-4cb4-8807-0da5fbfa6505",
   "metadata": {},
   "outputs": [],
   "source": [
    "mask"
   ]
  },
  {
   "cell_type": "code",
   "execution_count": null,
   "id": "73e6cce8-25b6-4f08-897f-e629b8706f5e",
   "metadata": {},
   "outputs": [],
   "source": [
    "#creating boolean arrays"
   ]
  },
  {
   "cell_type": "code",
   "execution_count": null,
   "id": "5a695865-8ef6-4896-911b-ce8d1986fc18",
   "metadata": {},
   "outputs": [],
   "source": [
    "bool_arr=np.array([True,False,True,False,True])"
   ]
  },
  {
   "cell_type": "code",
   "execution_count": null,
   "id": "065431a6-e75e-42ca-bc2d-f20a28e210d9",
   "metadata": {},
   "outputs": [],
   "source": [
    "arr_15"
   ]
  },
  {
   "cell_type": "code",
   "execution_count": null,
   "id": "adb579d9-cb3a-407f-ab38-5b2e0a5c0867",
   "metadata": {},
   "outputs": [],
   "source": [
    "arr_16=np.array([100,200,300,400,500])"
   ]
  },
  {
   "cell_type": "code",
   "execution_count": null,
   "id": "36415388-7081-40d5-80bb-0f8007855156",
   "metadata": {},
   "outputs": [],
   "source": [
    "print('masking using boolean arrays',arr_15[bool_arr])"
   ]
  },
  {
   "cell_type": "code",
   "execution_count": null,
   "id": "916ab02e-47d1-430e-bed2-0c3b71b0885e",
   "metadata": {},
   "outputs": [],
   "source": [
    "print('masking using boolean array',arr_16[bool_arr])"
   ]
  },
  {
   "cell_type": "code",
   "execution_count": null,
   "id": "f279e7e1-ec15-4086-8bc4-8234729ebdbb",
   "metadata": {},
   "outputs": [],
   "source": [
    "#masking with nan values"
   ]
  },
  {
   "cell_type": "code",
   "execution_count": null,
   "id": "d6ba2b70-9ac2-492e-ade8-e1bf861b51f0",
   "metadata": {},
   "outputs": [],
   "source": [
    "arr_17=np.array([1,2,np.nan,3,4])"
   ]
  },
  {
   "cell_type": "code",
   "execution_count": null,
   "id": "af428dde-f5c2-4047-89fb-1f1aa3ceabf1",
   "metadata": {},
   "outputs": [],
   "source": [
    "bool_mask=np.isnan(arr_17)"
   ]
  },
  {
   "cell_type": "code",
   "execution_count": null,
   "id": "d85fb9c9-09eb-47ab-a4ca-807690b19f21",
   "metadata": {},
   "outputs": [],
   "source": [
    "bool_mask"
   ]
  },
  {
   "cell_type": "code",
   "execution_count": null,
   "id": "19ca42f9-a890-4c9b-9994-72f4241ad4b9",
   "metadata": {},
   "outputs": [],
   "source": [
    "arr_filtered=arr_17[bool_mask]"
   ]
  },
  {
   "cell_type": "code",
   "execution_count": null,
   "id": "93a171ab-d38f-4f13-9af6-0837b838847d",
   "metadata": {},
   "outputs": [],
   "source": [
    "arr_filtered"
   ]
  },
  {
   "cell_type": "code",
   "execution_count": null,
   "id": "f67bf503-3e88-4084-ad1f-0095f265599a",
   "metadata": {},
   "outputs": [],
   "source": [
    "bool_mask=~np.isnan(arr_17)"
   ]
  },
  {
   "cell_type": "code",
   "execution_count": null,
   "id": "c503f8c9-83cf-4d3b-b0f8-cd462644d715",
   "metadata": {},
   "outputs": [],
   "source": [
    "bool_mask"
   ]
  },
  {
   "cell_type": "code",
   "execution_count": null,
   "id": "ea1928b1-8bcd-41e5-a6f3-70eb3709a7c3",
   "metadata": {},
   "outputs": [],
   "source": [
    "arr_filtered=arr_17[bool_mask]"
   ]
  },
  {
   "cell_type": "code",
   "execution_count": null,
   "id": "6c28a838-9bae-443d-9677-e23da407dd3e",
   "metadata": {},
   "outputs": [],
   "source": [
    "arr_filtered"
   ]
  },
  {
   "cell_type": "code",
   "execution_count": 1023,
   "id": "aea45709-d564-43a8-8760-49a651fddf66",
   "metadata": {},
   "outputs": [],
   "source": [
    "#Present Date (P.D) 10-12-24 Class Date 17-12-24\n"
   ]
  },
  {
   "cell_type": "code",
   "execution_count": 1025,
   "id": "165bd50e-7dff-4712-8cd9-97acc8ad0281",
   "metadata": {},
   "outputs": [
    {
     "data": {
      "text/plain": [
       "5"
      ]
     },
     "execution_count": 1025,
     "metadata": {},
     "output_type": "execute_result"
    }
   ],
   "source": [
    "10//2"
   ]
  },
  {
   "cell_type": "code",
   "execution_count": 1027,
   "id": "60ad228c-1ec6-4f7c-b958-045fede7a692",
   "metadata": {},
   "outputs": [
    {
     "data": {
      "text/plain": [
       "5.0"
      ]
     },
     "execution_count": 1027,
     "metadata": {},
     "output_type": "execute_result"
    }
   ],
   "source": [
    "10/2"
   ]
  },
  {
   "cell_type": "code",
   "execution_count": 1029,
   "id": "c3b26bfe-3ccc-4f61-bffd-c0b9a3fe293e",
   "metadata": {},
   "outputs": [
    {
     "data": {
      "text/plain": [
       "3"
      ]
     },
     "execution_count": 1029,
     "metadata": {},
     "output_type": "execute_result"
    }
   ],
   "source": [
    "10//3"
   ]
  },
  {
   "cell_type": "code",
   "execution_count": 1031,
   "id": "95bfaeb0-0cec-4d76-b2ee-493ae6b4c289",
   "metadata": {},
   "outputs": [
    {
     "data": {
      "text/plain": [
       "3.3333333333333335"
      ]
     },
     "execution_count": 1031,
     "metadata": {},
     "output_type": "execute_result"
    }
   ],
   "source": [
    "10/3"
   ]
  },
  {
   "cell_type": "code",
   "execution_count": 1033,
   "id": "072c1b17-638d-4ebc-87b2-2b55df6340ff",
   "metadata": {},
   "outputs": [],
   "source": [
    "#Present Date (P.D) 10-12-24 Class Date 17-08-24"
   ]
  },
  {
   "cell_type": "code",
   "execution_count": 1035,
   "id": "a687f185-62aa-4520-9f18-b19230b58b4d",
   "metadata": {},
   "outputs": [
    {
     "data": {
      "text/plain": [
       "'0x1'"
      ]
     },
     "execution_count": 1035,
     "metadata": {},
     "output_type": "execute_result"
    }
   ],
   "source": [
    "hex(1)"
   ]
  },
  {
   "cell_type": "code",
   "execution_count": 1037,
   "id": "924b29fc-dcb4-40b1-8205-1ce21b3e6607",
   "metadata": {},
   "outputs": [
    {
     "data": {
      "text/plain": [
       "'0x2'"
      ]
     },
     "execution_count": 1037,
     "metadata": {},
     "output_type": "execute_result"
    }
   ],
   "source": [
    "hex(2)"
   ]
  },
  {
   "cell_type": "code",
   "execution_count": 1039,
   "id": "a153b987-0149-40d3-8dc1-2ce9c4fc8e63",
   "metadata": {},
   "outputs": [
    {
     "data": {
      "text/plain": [
       "'0x19'"
      ]
     },
     "execution_count": 1039,
     "metadata": {},
     "output_type": "execute_result"
    }
   ],
   "source": [
    "hex(25)"
   ]
  },
  {
   "cell_type": "code",
   "execution_count": 1041,
   "id": "3dae1c82-83e9-4d53-97b7-43535104c226",
   "metadata": {},
   "outputs": [
    {
     "data": {
      "text/plain": [
       "'0x10'"
      ]
     },
     "execution_count": 1041,
     "metadata": {},
     "output_type": "execute_result"
    }
   ],
   "source": [
    "hex(16)"
   ]
  },
  {
   "cell_type": "code",
   "execution_count": 1043,
   "id": "1e0f6ecc-a088-41c0-bc3b-23dac55c2b00",
   "metadata": {},
   "outputs": [
    {
     "data": {
      "text/plain": [
       "'0xa'"
      ]
     },
     "execution_count": 1043,
     "metadata": {},
     "output_type": "execute_result"
    }
   ],
   "source": [
    "hex(10)"
   ]
  },
  {
   "cell_type": "code",
   "execution_count": 1045,
   "id": "1c933c6d-30ee-4cc3-ab6c-7e5ac66586b6",
   "metadata": {},
   "outputs": [
    {
     "data": {
      "text/plain": [
       "'0x20'"
      ]
     },
     "execution_count": 1045,
     "metadata": {},
     "output_type": "execute_result"
    }
   ],
   "source": [
    "hex(32)"
   ]
  },
  {
   "cell_type": "code",
   "execution_count": 1047,
   "id": "bac9dcf9-9b1f-4563-8d98-fb74ef32f217",
   "metadata": {},
   "outputs": [
    {
     "data": {
      "text/plain": [
       "'0x100'"
      ]
     },
     "execution_count": 1047,
     "metadata": {},
     "output_type": "execute_result"
    }
   ],
   "source": [
    "hex(256)"
   ]
  },
  {
   "cell_type": "code",
   "execution_count": 1049,
   "id": "618236a1-7807-4688-95ea-3a4979c9aec3",
   "metadata": {},
   "outputs": [
    {
     "data": {
      "text/plain": [
       "4096"
      ]
     },
     "execution_count": 1049,
     "metadata": {},
     "output_type": "execute_result"
    }
   ],
   "source": [
    "16*16*16"
   ]
  },
  {
   "cell_type": "code",
   "execution_count": 1051,
   "id": "ca2a9d3f-6ee9-4436-a0e3-e07b1cd9376e",
   "metadata": {},
   "outputs": [
    {
     "data": {
      "text/plain": [
       "'0x1000'"
      ]
     },
     "execution_count": 1051,
     "metadata": {},
     "output_type": "execute_result"
    }
   ],
   "source": [
    "hex(4096)"
   ]
  },
  {
   "cell_type": "code",
   "execution_count": 1053,
   "id": "5b65a148-2028-4163-90b1-3ce071d81154",
   "metadata": {},
   "outputs": [
    {
     "data": {
      "text/plain": [
       "11"
      ]
     },
     "execution_count": 1053,
     "metadata": {},
     "output_type": "execute_result"
    }
   ],
   "source": [
    "0xb"
   ]
  },
  {
   "cell_type": "code",
   "execution_count": 1055,
   "id": "ff8115e1-ae7b-447b-9465-79dedba2334e",
   "metadata": {},
   "outputs": [
    {
     "data": {
      "text/plain": [
       "36"
      ]
     },
     "execution_count": 1055,
     "metadata": {},
     "output_type": "execute_result"
    }
   ],
   "source": [
    "0x24"
   ]
  },
  {
   "cell_type": "code",
   "execution_count": 1057,
   "id": "2a94f533-1e92-40a8-b2d3-9af5ba728eb5",
   "metadata": {},
   "outputs": [],
   "source": [
    "stringOne='mit'"
   ]
  },
  {
   "cell_type": "code",
   "execution_count": 1059,
   "id": "6326ac78-f575-4f88-8da8-bc613749f90e",
   "metadata": {},
   "outputs": [
    {
     "data": {
      "text/plain": [
       "'mit'"
      ]
     },
     "execution_count": 1059,
     "metadata": {},
     "output_type": "execute_result"
    }
   ],
   "source": [
    "stringOne"
   ]
  },
  {
   "cell_type": "code",
   "execution_count": 1061,
   "id": "9bbbf12a-2aa3-45f4-a466-bd03fbb3bb67",
   "metadata": {},
   "outputs": [
    {
     "data": {
      "text/plain": [
       "'mitmitmitmitmit'"
      ]
     },
     "execution_count": 1061,
     "metadata": {},
     "output_type": "execute_result"
    }
   ],
   "source": [
    "stringOne*5"
   ]
  },
  {
   "cell_type": "code",
   "execution_count": 1063,
   "id": "6fe779ef-0ee4-477b-8530-314c96fde91b",
   "metadata": {},
   "outputs": [],
   "source": [
    "stringOne='mit '"
   ]
  },
  {
   "cell_type": "code",
   "execution_count": 1065,
   "id": "f014b75c-b055-4030-96b5-6ab34f429bd3",
   "metadata": {},
   "outputs": [
    {
     "data": {
      "text/plain": [
       "'mit mit mit mit mit '"
      ]
     },
     "execution_count": 1065,
     "metadata": {},
     "output_type": "execute_result"
    }
   ],
   "source": [
    "stringOne*5"
   ]
  },
  {
   "cell_type": "code",
   "execution_count": 1067,
   "id": "c51df107-fdea-44e6-b248-aaee9088c65a",
   "metadata": {},
   "outputs": [],
   "source": [
    "#Above Concept String Multiplication"
   ]
  },
  {
   "cell_type": "code",
   "execution_count": 1069,
   "id": "902a9037-df86-470f-970d-91a9a400e5ab",
   "metadata": {},
   "outputs": [],
   "source": [
    "#string concatention"
   ]
  },
  {
   "cell_type": "code",
   "execution_count": 1071,
   "id": "a2af0209-c83f-462c-a915-75c2492b5067",
   "metadata": {},
   "outputs": [
    {
     "data": {
      "text/plain": [
       "'mit  technologies'"
      ]
     },
     "execution_count": 1071,
     "metadata": {},
     "output_type": "execute_result"
    }
   ],
   "source": [
    "stringOne + ' technologies'"
   ]
  },
  {
   "cell_type": "code",
   "execution_count": 1073,
   "id": "a5888c66-faee-4282-8171-614e6ab38eb5",
   "metadata": {},
   "outputs": [
    {
     "data": {
      "text/plain": [
       "'Hello World'"
      ]
     },
     "execution_count": 1073,
     "metadata": {},
     "output_type": "execute_result"
    }
   ],
   "source": [
    "'Hello ' +'World'"
   ]
  },
  {
   "cell_type": "code",
   "execution_count": 1075,
   "id": "1709ce89-2ce3-49ba-9ce7-9ebb4151eef1",
   "metadata": {},
   "outputs": [],
   "source": [
    "#lets see string substraction"
   ]
  },
  {
   "cell_type": "code",
   "execution_count": 1077,
   "id": "a3f8333b-01e7-4763-bf89-67aed587c253",
   "metadata": {},
   "outputs": [
    {
     "ename": "TypeError",
     "evalue": "unsupported operand type(s) for -: 'str' and 'str'",
     "output_type": "error",
     "traceback": [
      "\u001b[1;31m---------------------------------------------------------------------------\u001b[0m",
      "\u001b[1;31mTypeError\u001b[0m                                 Traceback (most recent call last)",
      "Cell \u001b[1;32mIn[1077], line 1\u001b[0m\n\u001b[1;32m----> 1\u001b[0m \u001b[38;5;124m'\u001b[39m\u001b[38;5;124mabc\u001b[39m\u001b[38;5;124m'\u001b[39m\u001b[38;5;241m-\u001b[39m\u001b[38;5;124m'\u001b[39m\u001b[38;5;124mab\u001b[39m\u001b[38;5;124m'\u001b[39m\n",
      "\u001b[1;31mTypeError\u001b[0m: unsupported operand type(s) for -: 'str' and 'str'"
     ]
    }
   ],
   "source": [
    "'abc'-'ab'"
   ]
  },
  {
   "cell_type": "code",
   "execution_count": 1079,
   "id": "22d3db91-8912-4a2d-93a4-643b76abd70d",
   "metadata": {},
   "outputs": [
    {
     "ename": "TypeError",
     "evalue": "unsupported operand type(s) for -: 'str' and 'str'",
     "output_type": "error",
     "traceback": [
      "\u001b[1;31m---------------------------------------------------------------------------\u001b[0m",
      "\u001b[1;31mTypeError\u001b[0m                                 Traceback (most recent call last)",
      "Cell \u001b[1;32mIn[1079], line 1\u001b[0m\n\u001b[1;32m----> 1\u001b[0m \u001b[38;5;124m'\u001b[39m\u001b[38;5;124mabc\u001b[39m\u001b[38;5;124m'\u001b[39m\u001b[38;5;241m-\u001b[39m\u001b[38;5;124m'\u001b[39m\u001b[38;5;124mabc\u001b[39m\u001b[38;5;124m'\u001b[39m\n",
      "\u001b[1;31mTypeError\u001b[0m: unsupported operand type(s) for -: 'str' and 'str'"
     ]
    }
   ],
   "source": [
    "'abc'-'abc'"
   ]
  },
  {
   "cell_type": "code",
   "execution_count": 1081,
   "id": "09e670d3-8fe7-4df5-9436-5517baa17322",
   "metadata": {},
   "outputs": [],
   "source": [
    "stringTwo='c:/nit'"
   ]
  },
  {
   "cell_type": "code",
   "execution_count": 1083,
   "id": "95fbe3b5-14c6-43a0-9913-6696e823bdaa",
   "metadata": {},
   "outputs": [
    {
     "data": {
      "text/plain": [
       "'c:/nit'"
      ]
     },
     "execution_count": 1083,
     "metadata": {},
     "output_type": "execute_result"
    }
   ],
   "source": [
    "stringTwo"
   ]
  },
  {
   "cell_type": "code",
   "execution_count": 1085,
   "id": "7aa97863-1424-4502-84b0-4da242c02362",
   "metadata": {},
   "outputs": [],
   "source": [
    "#Raw string usage r"
   ]
  },
  {
   "cell_type": "code",
   "execution_count": 1087,
   "id": "683b5fd5-6ed2-49e5-971b-a3a1b7c62759",
   "metadata": {},
   "outputs": [
    {
     "name": "stdout",
     "output_type": "stream",
     "text": [
      "c:/nit\n"
     ]
    }
   ],
   "source": [
    "print('c:/nit')"
   ]
  },
  {
   "cell_type": "code",
   "execution_count": 1089,
   "id": "be29a620-3289-4ba0-b371-5779fe864b17",
   "metadata": {},
   "outputs": [
    {
     "name": "stdout",
     "output_type": "stream",
     "text": [
      "c:/nit\n"
     ]
    }
   ],
   "source": [
    "print(r'c:/nit')"
   ]
  },
  {
   "cell_type": "code",
   "execution_count": 1091,
   "id": "d1913bf6-c7f5-46ce-8845-36ce3c6c3c47",
   "metadata": {},
   "outputs": [
    {
     "data": {
      "text/plain": [
       "'{\"dataframes\": [], \"user\": \"udai4\"}'"
      ]
     },
     "execution_count": 1091,
     "metadata": {},
     "output_type": "execute_result"
    }
   ],
   "source": [
    "_"
   ]
  },
  {
   "cell_type": "code",
   "execution_count": 1093,
   "id": "a2c61827-c2e6-4ada-961e-4cb9e35edb1f",
   "metadata": {},
   "outputs": [
    {
     "data": {
      "text/plain": [
       "9"
      ]
     },
     "execution_count": 1093,
     "metadata": {},
     "output_type": "execute_result"
    }
   ],
   "source": [
    "3*3"
   ]
  },
  {
   "cell_type": "code",
   "execution_count": 1095,
   "id": "440a0b05-18ff-4090-9913-172408064d62",
   "metadata": {},
   "outputs": [
    {
     "data": {
      "text/plain": [
       "'{\"dataframes\": [], \"user\": \"udai4\"}'"
      ]
     },
     "execution_count": 1095,
     "metadata": {},
     "output_type": "execute_result"
    }
   ],
   "source": [
    "_"
   ]
  },
  {
   "cell_type": "code",
   "execution_count": 1097,
   "id": "cc28f519-7950-4798-87dd-1913fb0c78db",
   "metadata": {},
   "outputs": [],
   "source": [
    "variableA=8+7"
   ]
  },
  {
   "cell_type": "code",
   "execution_count": 1099,
   "id": "4230dd7c-e54d-4178-bb6a-1e708cb93ce8",
   "metadata": {},
   "outputs": [
    {
     "ename": "TypeError",
     "evalue": "can only concatenate str (not \"int\") to str",
     "output_type": "error",
     "traceback": [
      "\u001b[1;31m---------------------------------------------------------------------------\u001b[0m",
      "\u001b[1;31mTypeError\u001b[0m                                 Traceback (most recent call last)",
      "Cell \u001b[1;32mIn[1099], line 1\u001b[0m\n\u001b[1;32m----> 1\u001b[0m _\u001b[38;5;241m+\u001b[39m\u001b[38;5;241m8\u001b[39m\n",
      "\u001b[1;31mTypeError\u001b[0m: can only concatenate str (not \"int\") to str"
     ]
    }
   ],
   "source": [
    "_+8"
   ]
  },
  {
   "cell_type": "code",
   "execution_count": 1101,
   "id": "ae8f10dc-562a-4916-bdad-a4b7250c1bc6",
   "metadata": {},
   "outputs": [
    {
     "data": {
      "text/plain": [
       "'{\"dataframes\": [], \"user\": \"udai4\"}'"
      ]
     },
     "execution_count": 1101,
     "metadata": {},
     "output_type": "execute_result"
    }
   ],
   "source": [
    "_"
   ]
  },
  {
   "cell_type": "code",
   "execution_count": 1103,
   "id": "a7cc8a07-3aff-44e1-b7c1-3cfd46375bad",
   "metadata": {},
   "outputs": [
    {
     "ename": "TypeError",
     "evalue": "can only concatenate str (not \"int\") to str",
     "output_type": "error",
     "traceback": [
      "\u001b[1;31m---------------------------------------------------------------------------\u001b[0m",
      "\u001b[1;31mTypeError\u001b[0m                                 Traceback (most recent call last)",
      "Cell \u001b[1;32mIn[1103], line 1\u001b[0m\n\u001b[1;32m----> 1\u001b[0m _ \u001b[38;5;241m+\u001b[39m variableA\n",
      "\u001b[1;31mTypeError\u001b[0m: can only concatenate str (not \"int\") to str"
     ]
    }
   ],
   "source": [
    "_ + variableA"
   ]
  },
  {
   "cell_type": "code",
   "execution_count": 1105,
   "id": "13b1df2c-5652-4b40-9932-e41cf3f0706e",
   "metadata": {},
   "outputs": [
    {
     "data": {
      "text/plain": [
       "'{\"dataframes\": [], \"user\": \"udai4\"}Step by Step Keep Moving'"
      ]
     },
     "execution_count": 1105,
     "metadata": {},
     "output_type": "execute_result"
    }
   ],
   "source": [
    "_ + 'Step by Step Keep Moving'"
   ]
  },
  {
   "cell_type": "code",
   "execution_count": null,
   "id": "5a117711-f29a-4a21-a5df-55b3d158b676",
   "metadata": {},
   "outputs": [],
   "source": []
  },
  {
   "cell_type": "markdown",
   "id": "ec5663f1-b5b1-4ed7-8662-cb8bbfe3a9a2",
   "metadata": {},
   "source": [
    "# Assistant\n",
    "The error occurs because the expression `mat/2 or mat/4` is trying to evaluate a truth value for a NumPy array, which is ambiguous. In Python, the `or` operator expects a single boolean value, but when applied to arrays, it doesn't know how to handle multiple values.\n",
    "\n",
    "To fix this, you should use NumPy's element-wise operations instead of the `or` operator. If you want to create a mask that applies both conditions, you can use NumPy's `np.where()` function or logical operations.\n",
    "\n",
    "Would you like me to provide the corrected code?"
   ]
  },
  {
   "cell_type": "markdown",
   "id": "4de8b849-3a32-4b34-9212-d1a7965ace21",
   "metadata": {},
   "source": [
    "# User\n",
    "previous result symbol '_'  example"
   ]
  },
  {
   "cell_type": "markdown",
   "id": "560b3c04-70ae-4b22-9188-b29fc02148fd",
   "metadata": {},
   "source": [
    "# Assistant\n",
    "In Jupyter Notebooks, the underscore symbol `_` is used to refer to the result of the last executed expression. For example, if you run a calculation and then type `_`, it will return the result of that calculation.\n",
    "\n",
    "Here's a simple example:\n"
   ]
  },
  {
   "cell_type": "code",
   "execution_count": 1110,
   "id": "ec1f3e30-6a75-4cfe-82fa-ff6b518c21a1",
   "metadata": {},
   "outputs": [
    {
     "data": {
      "text/plain": [
       "'{\"dataframes\": [], \"user\": \"udai4\"}'"
      ]
     },
     "execution_count": 1110,
     "metadata": {},
     "output_type": "execute_result"
    }
   ],
   "source": [
    "# Example calculation\n",
    "result = 5 + 3\n",
    "# The result is 8, which can be accessed using _\n",
    "_  # This will output 8"
   ]
  },
  {
   "cell_type": "markdown",
   "id": "1f44d2e1-12c3-4b4b-8a42-da67e1e682d2",
   "metadata": {},
   "source": [
    "\n",
    "If you have any specific questions or need further clarification about using `_`, feel free to ask!"
   ]
  },
  {
   "cell_type": "code",
   "execution_count": 1113,
   "id": "822bebe9-ed7f-46b4-a308-772eaf8d6a68",
   "metadata": {},
   "outputs": [],
   "source": [
    "result=5+3"
   ]
  },
  {
   "cell_type": "code",
   "execution_count": 1115,
   "id": "f23107ed-7545-4469-98ed-43dad7001a12",
   "metadata": {},
   "outputs": [
    {
     "data": {
      "text/plain": [
       "'{\"dataframes\": [], \"user\": \"udai4\"}'"
      ]
     },
     "execution_count": 1115,
     "metadata": {},
     "output_type": "execute_result"
    }
   ],
   "source": [
    "_"
   ]
  },
  {
   "cell_type": "code",
   "execution_count": 1117,
   "id": "fe49f3a0-02d0-41b8-9526-395cf2c89aa4",
   "metadata": {},
   "outputs": [],
   "source": [
    "result = 5 + 3"
   ]
  },
  {
   "cell_type": "code",
   "execution_count": 1119,
   "id": "e657af45-4b95-4c7f-8734-9786b26b87dc",
   "metadata": {},
   "outputs": [
    {
     "data": {
      "text/plain": [
       "'{\"dataframes\": [], \"user\": \"udai4\"}'"
      ]
     },
     "execution_count": 1119,
     "metadata": {},
     "output_type": "execute_result"
    }
   ],
   "source": [
    "_"
   ]
  },
  {
   "cell_type": "code",
   "execution_count": 1121,
   "id": "0ef53760-0b41-4a75-98c1-b2751abc31c5",
   "metadata": {},
   "outputs": [
    {
     "ename": "SyntaxError",
     "evalue": "invalid syntax (476313318.py, line 1)",
     "output_type": "error",
     "traceback": [
      "\u001b[1;36m  Cell \u001b[1;32mIn[1121], line 1\u001b[1;36m\u001b[0m\n\u001b[1;33m    -\u001b[0m\n\u001b[1;37m     ^\u001b[0m\n\u001b[1;31mSyntaxError\u001b[0m\u001b[1;31m:\u001b[0m invalid syntax\n"
     ]
    }
   ],
   "source": [
    "-"
   ]
  },
  {
   "cell_type": "code",
   "execution_count": 1123,
   "id": "af3a555f-df90-48e7-8169-fb3a595b1c96",
   "metadata": {},
   "outputs": [
    {
     "data": {
      "text/plain": [
       "'{\"dataframes\": [], \"user\": \"udai4\"}{\"dataframes\": [], \"user\": \"udai4\"}'"
      ]
     },
     "execution_count": 1123,
     "metadata": {},
     "output_type": "execute_result"
    }
   ],
   "source": [
    "_ + _"
   ]
  },
  {
   "cell_type": "code",
   "execution_count": 1125,
   "id": "b5766002-cd99-48ce-9a2d-72a648ad3e35",
   "metadata": {},
   "outputs": [],
   "source": [
    "#Change fine to dine"
   ]
  },
  {
   "cell_type": "code",
   "execution_count": 1127,
   "id": "28d345f6-cfaa-4342-ab60-74035b8a633f",
   "metadata": {},
   "outputs": [],
   "source": [
    "name1='fine'"
   ]
  },
  {
   "cell_type": "code",
   "execution_count": 1129,
   "id": "14d06c24-2361-4720-99e0-78eac0edf55c",
   "metadata": {},
   "outputs": [
    {
     "data": {
      "text/plain": [
       "'f'"
      ]
     },
     "execution_count": 1129,
     "metadata": {},
     "output_type": "execute_result"
    }
   ],
   "source": [
    "name1[0:1]"
   ]
  },
  {
   "cell_type": "code",
   "execution_count": 1131,
   "id": "525c8506-f637-4277-9ecf-ec0401e551c9",
   "metadata": {},
   "outputs": [
    {
     "data": {
      "text/plain": [
       "str"
      ]
     },
     "execution_count": 1131,
     "metadata": {},
     "output_type": "execute_result"
    }
   ],
   "source": [
    "type(name1)"
   ]
  },
  {
   "cell_type": "code",
   "execution_count": 1133,
   "id": "541079b6-69b6-4e63-b469-aaecb39013cb",
   "metadata": {},
   "outputs": [
    {
     "data": {
      "text/plain": [
       "str"
      ]
     },
     "execution_count": 1133,
     "metadata": {},
     "output_type": "execute_result"
    }
   ],
   "source": [
    "type(name1[0:1])"
   ]
  },
  {
   "cell_type": "code",
   "execution_count": 1135,
   "id": "18521585-d334-4397-9ff8-596bc4d13dd6",
   "metadata": {},
   "outputs": [
    {
     "data": {
      "text/plain": [
       "'in'"
      ]
     },
     "execution_count": 1135,
     "metadata": {},
     "output_type": "execute_result"
    }
   ],
   "source": [
    "name1[1:3]"
   ]
  },
  {
   "cell_type": "code",
   "execution_count": 1137,
   "id": "303f53b5-e392-4db8-bf50-fe8b6311b960",
   "metadata": {},
   "outputs": [
    {
     "ename": "NameError",
     "evalue": "name 'name' is not defined",
     "output_type": "error",
     "traceback": [
      "\u001b[1;31m---------------------------------------------------------------------------\u001b[0m",
      "\u001b[1;31mNameError\u001b[0m                                 Traceback (most recent call last)",
      "Cell \u001b[1;32mIn[1137], line 1\u001b[0m\n\u001b[1;32m----> 1\u001b[0m name[\u001b[38;5;241m1\u001b[39m:\u001b[38;5;241m4\u001b[39m]\n",
      "\u001b[1;31mNameError\u001b[0m: name 'name' is not defined"
     ]
    }
   ],
   "source": [
    "name[1:4]"
   ]
  },
  {
   "cell_type": "code",
   "execution_count": 1139,
   "id": "3ce8efa8-6b0b-4e00-997b-c291afe672dd",
   "metadata": {},
   "outputs": [
    {
     "ename": "NameError",
     "evalue": "name 'name' is not defined",
     "output_type": "error",
     "traceback": [
      "\u001b[1;31m---------------------------------------------------------------------------\u001b[0m",
      "\u001b[1;31mNameError\u001b[0m                                 Traceback (most recent call last)",
      "Cell \u001b[1;32mIn[1139], line 1\u001b[0m\n\u001b[1;32m----> 1\u001b[0m name[\u001b[38;5;241m1\u001b[39m:\u001b[38;5;241m-\u001b[39m\u001b[38;5;241m1\u001b[39m]\n",
      "\u001b[1;31mNameError\u001b[0m: name 'name' is not defined"
     ]
    }
   ],
   "source": [
    "name[1:-1]"
   ]
  },
  {
   "cell_type": "code",
   "execution_count": 1141,
   "id": "217f80a7-4b63-4a5c-a051-543fcfa3e91a",
   "metadata": {},
   "outputs": [
    {
     "data": {
      "text/plain": [
       "'ine'"
      ]
     },
     "execution_count": 1141,
     "metadata": {},
     "output_type": "execute_result"
    }
   ],
   "source": [
    "name1[1:4]"
   ]
  },
  {
   "cell_type": "code",
   "execution_count": 1143,
   "id": "69b5b21f-f0dd-48a5-a141-454b58b0b8b9",
   "metadata": {},
   "outputs": [
    {
     "ename": "NameError",
     "evalue": "name 'd' is not defined",
     "output_type": "error",
     "traceback": [
      "\u001b[1;31m---------------------------------------------------------------------------\u001b[0m",
      "\u001b[1;31mNameError\u001b[0m                                 Traceback (most recent call last)",
      "Cell \u001b[1;32mIn[1143], line 1\u001b[0m\n\u001b[1;32m----> 1\u001b[0m d\u001b[38;5;241m+\u001b[39mname1[\u001b[38;5;241m1\u001b[39m:\u001b[38;5;241m4\u001b[39m]\n",
      "\u001b[1;31mNameError\u001b[0m: name 'd' is not defined"
     ]
    }
   ],
   "source": [
    "d+name1[1:4]"
   ]
  },
  {
   "cell_type": "code",
   "execution_count": 1145,
   "id": "a00690ca-f8ce-4546-be94-6df40ec273ac",
   "metadata": {},
   "outputs": [
    {
     "data": {
      "text/plain": [
       "'dine'"
      ]
     },
     "execution_count": 1145,
     "metadata": {},
     "output_type": "execute_result"
    }
   ],
   "source": [
    "'d'+name1[1:4]"
   ]
  },
  {
   "cell_type": "code",
   "execution_count": 1147,
   "id": "79ccead3-64be-4601-b2a4-d0e74803b2f0",
   "metadata": {},
   "outputs": [],
   "source": [
    "#Operators :Arthematic Operators"
   ]
  },
  {
   "cell_type": "code",
   "execution_count": 1149,
   "id": "0bcd801f-48b6-4392-ac1e-dda76645194f",
   "metadata": {},
   "outputs": [
    {
     "name": "stderr",
     "output_type": "stream",
     "text": [
      "C:\\Users\\udai4\\anaconda3\\Lib\\site-packages\\IPython\\core\\displayhook.py:281: UserWarning: Output cache limit (currently 1000 entries) hit.\n",
      "Flushing oldest 200 entries.\n",
      "  warn('Output cache limit (currently {sz} entries) hit.\\n'\n"
     ]
    },
    {
     "data": {
      "text/plain": [
       "2"
      ]
     },
     "execution_count": 1149,
     "metadata": {},
     "output_type": "execute_result"
    }
   ],
   "source": [
    "1+1"
   ]
  },
  {
   "cell_type": "code",
   "execution_count": 1151,
   "id": "088bc686-2584-4ed5-a747-28708e5907c9",
   "metadata": {},
   "outputs": [
    {
     "ename": "SyntaxError",
     "evalue": "invalid syntax (2540756291.py, line 1)",
     "output_type": "error",
     "traceback": [
      "\u001b[1;36m  Cell \u001b[1;32mIn[1151], line 1\u001b[1;36m\u001b[0m\n\u001b[1;33m    install rsvg-convert python miktex\u001b[0m\n\u001b[1;37m            ^\u001b[0m\n\u001b[1;31mSyntaxError\u001b[0m\u001b[1;31m:\u001b[0m invalid syntax\n"
     ]
    }
   ],
   "source": [
    "install rsvg-convert python miktex"
   ]
  },
  {
   "cell_type": "code",
   "execution_count": null,
   "id": "8393d797-3e5d-4479-a0fc-d417637f414a",
   "metadata": {},
   "outputs": [],
   "source": []
  }
 ],
 "metadata": {
  "kernelspec": {
   "display_name": "Python 3 (ipykernel)",
   "language": "python",
   "name": "python3"
  },
  "language_info": {
   "codemirror_mode": {
    "name": "ipython",
    "version": 3
   },
   "file_extension": ".py",
   "mimetype": "text/x-python",
   "name": "python",
   "nbconvert_exporter": "python",
   "pygments_lexer": "ipython3",
   "version": "3.12.4"
  }
 },
 "nbformat": 4,
 "nbformat_minor": 5
}
